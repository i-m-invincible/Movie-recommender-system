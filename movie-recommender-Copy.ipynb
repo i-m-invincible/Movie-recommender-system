{
 "cells": [
  {
   "cell_type": "code",
   "execution_count": 1,
   "id": "84724f53-78e1-4433-952f-20009cec49b7",
   "metadata": {},
   "outputs": [],
   "source": [
    "import numpy as np\n",
    "import pandas as pd"
   ]
  },
  {
   "cell_type": "code",
   "execution_count": 2,
   "id": "470de527-cb97-4452-ae81-5c9d416c5c95",
   "metadata": {},
   "outputs": [],
   "source": [
    "movies=pd.read_csv('tmdb_5000_movies.csv')\n",
    "credits=pd.read_csv('tmdb_5000_credits.csv')"
   ]
  },
  {
   "cell_type": "code",
   "execution_count": 3,
   "id": "19019302-76b3-4223-a47f-52a06cbf969e",
   "metadata": {},
   "outputs": [
    {
     "data": {
      "text/plain": [
       "pandas.core.frame.DataFrame"
      ]
     },
     "execution_count": 3,
     "metadata": {},
     "output_type": "execute_result"
    }
   ],
   "source": [
    "type(movies)"
   ]
  },
  {
   "cell_type": "code",
   "execution_count": 4,
   "id": "7ed9aada-90e4-4768-8562-9b131f9bb33e",
   "metadata": {},
   "outputs": [],
   "source": [
    "movies = movies.merge(credits, on='title')"
   ]
  },
  {
   "cell_type": "code",
   "execution_count": 5,
   "id": "c7e09030-1dee-4b33-9a34-d4ce230c0eb4",
   "metadata": {},
   "outputs": [
    {
     "data": {
      "text/plain": [
       "pandas.core.frame.DataFrame"
      ]
     },
     "execution_count": 5,
     "metadata": {},
     "output_type": "execute_result"
    }
   ],
   "source": [
    "type(movies)"
   ]
  },
  {
   "cell_type": "code",
   "execution_count": 6,
   "id": "6b3c6131-fbad-411f-8009-7576f27690aa",
   "metadata": {},
   "outputs": [
    {
     "data": {
      "text/plain": [
       "original_language\n",
       "en    4510\n",
       "fr      70\n",
       "es      32\n",
       "zh      27\n",
       "de      27\n",
       "hi      19\n",
       "ja      16\n",
       "it      14\n",
       "ko      12\n",
       "cn      12\n",
       "ru      11\n",
       "pt       9\n",
       "da       7\n",
       "sv       5\n",
       "nl       4\n",
       "fa       4\n",
       "th       3\n",
       "he       3\n",
       "id       2\n",
       "cs       2\n",
       "ta       2\n",
       "ro       2\n",
       "ar       2\n",
       "te       1\n",
       "hu       1\n",
       "xx       1\n",
       "af       1\n",
       "is       1\n",
       "tr       1\n",
       "vi       1\n",
       "pl       1\n",
       "nb       1\n",
       "ky       1\n",
       "no       1\n",
       "sl       1\n",
       "ps       1\n",
       "el       1\n",
       "Name: count, dtype: int64"
      ]
     },
     "execution_count": 6,
     "metadata": {},
     "output_type": "execute_result"
    }
   ],
   "source": [
    "movies['original_language'].value_counts()"
   ]
  },
  {
   "cell_type": "code",
   "execution_count": 7,
   "id": "0f8aacaa-3859-4ae4-8ac5-ab530d06612c",
   "metadata": {},
   "outputs": [],
   "source": [
    "movies = movies[['movie_id', 'title', 'overview', 'genres', 'keywords', 'cast', 'crew']]"
   ]
  },
  {
   "cell_type": "code",
   "execution_count": 8,
   "id": "54a34439-4a74-4a7e-abb8-88d1036859f6",
   "metadata": {},
   "outputs": [
    {
     "data": {
      "text/html": [
       "<div>\n",
       "<style scoped>\n",
       "    .dataframe tbody tr th:only-of-type {\n",
       "        vertical-align: middle;\n",
       "    }\n",
       "\n",
       "    .dataframe tbody tr th {\n",
       "        vertical-align: top;\n",
       "    }\n",
       "\n",
       "    .dataframe thead th {\n",
       "        text-align: right;\n",
       "    }\n",
       "</style>\n",
       "<table border=\"1\" class=\"dataframe\">\n",
       "  <thead>\n",
       "    <tr style=\"text-align: right;\">\n",
       "      <th></th>\n",
       "      <th>movie_id</th>\n",
       "      <th>title</th>\n",
       "      <th>overview</th>\n",
       "      <th>genres</th>\n",
       "      <th>keywords</th>\n",
       "      <th>cast</th>\n",
       "      <th>crew</th>\n",
       "    </tr>\n",
       "  </thead>\n",
       "  <tbody>\n",
       "    <tr>\n",
       "      <th>0</th>\n",
       "      <td>19995</td>\n",
       "      <td>Avatar</td>\n",
       "      <td>In the 22nd century, a paraplegic Marine is di...</td>\n",
       "      <td>[{\"id\": 28, \"name\": \"Action\"}, {\"id\": 12, \"nam...</td>\n",
       "      <td>[{\"id\": 1463, \"name\": \"culture clash\"}, {\"id\":...</td>\n",
       "      <td>[{\"cast_id\": 242, \"character\": \"Jake Sully\", \"...</td>\n",
       "      <td>[{\"credit_id\": \"52fe48009251416c750aca23\", \"de...</td>\n",
       "    </tr>\n",
       "    <tr>\n",
       "      <th>1</th>\n",
       "      <td>285</td>\n",
       "      <td>Pirates of the Caribbean: At World's End</td>\n",
       "      <td>Captain Barbossa, long believed to be dead, ha...</td>\n",
       "      <td>[{\"id\": 12, \"name\": \"Adventure\"}, {\"id\": 14, \"...</td>\n",
       "      <td>[{\"id\": 270, \"name\": \"ocean\"}, {\"id\": 726, \"na...</td>\n",
       "      <td>[{\"cast_id\": 4, \"character\": \"Captain Jack Spa...</td>\n",
       "      <td>[{\"credit_id\": \"52fe4232c3a36847f800b579\", \"de...</td>\n",
       "    </tr>\n",
       "    <tr>\n",
       "      <th>2</th>\n",
       "      <td>206647</td>\n",
       "      <td>Spectre</td>\n",
       "      <td>A cryptic message from Bond’s past sends him o...</td>\n",
       "      <td>[{\"id\": 28, \"name\": \"Action\"}, {\"id\": 12, \"nam...</td>\n",
       "      <td>[{\"id\": 470, \"name\": \"spy\"}, {\"id\": 818, \"name...</td>\n",
       "      <td>[{\"cast_id\": 1, \"character\": \"James Bond\", \"cr...</td>\n",
       "      <td>[{\"credit_id\": \"54805967c3a36829b5002c41\", \"de...</td>\n",
       "    </tr>\n",
       "    <tr>\n",
       "      <th>3</th>\n",
       "      <td>49026</td>\n",
       "      <td>The Dark Knight Rises</td>\n",
       "      <td>Following the death of District Attorney Harve...</td>\n",
       "      <td>[{\"id\": 28, \"name\": \"Action\"}, {\"id\": 80, \"nam...</td>\n",
       "      <td>[{\"id\": 849, \"name\": \"dc comics\"}, {\"id\": 853,...</td>\n",
       "      <td>[{\"cast_id\": 2, \"character\": \"Bruce Wayne / Ba...</td>\n",
       "      <td>[{\"credit_id\": \"52fe4781c3a36847f81398c3\", \"de...</td>\n",
       "    </tr>\n",
       "    <tr>\n",
       "      <th>4</th>\n",
       "      <td>49529</td>\n",
       "      <td>John Carter</td>\n",
       "      <td>John Carter is a war-weary, former military ca...</td>\n",
       "      <td>[{\"id\": 28, \"name\": \"Action\"}, {\"id\": 12, \"nam...</td>\n",
       "      <td>[{\"id\": 818, \"name\": \"based on novel\"}, {\"id\":...</td>\n",
       "      <td>[{\"cast_id\": 5, \"character\": \"John Carter\", \"c...</td>\n",
       "      <td>[{\"credit_id\": \"52fe479ac3a36847f813eaa3\", \"de...</td>\n",
       "    </tr>\n",
       "  </tbody>\n",
       "</table>\n",
       "</div>"
      ],
      "text/plain": [
       "   movie_id                                     title  \\\n",
       "0     19995                                    Avatar   \n",
       "1       285  Pirates of the Caribbean: At World's End   \n",
       "2    206647                                   Spectre   \n",
       "3     49026                     The Dark Knight Rises   \n",
       "4     49529                               John Carter   \n",
       "\n",
       "                                            overview  \\\n",
       "0  In the 22nd century, a paraplegic Marine is di...   \n",
       "1  Captain Barbossa, long believed to be dead, ha...   \n",
       "2  A cryptic message from Bond’s past sends him o...   \n",
       "3  Following the death of District Attorney Harve...   \n",
       "4  John Carter is a war-weary, former military ca...   \n",
       "\n",
       "                                              genres  \\\n",
       "0  [{\"id\": 28, \"name\": \"Action\"}, {\"id\": 12, \"nam...   \n",
       "1  [{\"id\": 12, \"name\": \"Adventure\"}, {\"id\": 14, \"...   \n",
       "2  [{\"id\": 28, \"name\": \"Action\"}, {\"id\": 12, \"nam...   \n",
       "3  [{\"id\": 28, \"name\": \"Action\"}, {\"id\": 80, \"nam...   \n",
       "4  [{\"id\": 28, \"name\": \"Action\"}, {\"id\": 12, \"nam...   \n",
       "\n",
       "                                            keywords  \\\n",
       "0  [{\"id\": 1463, \"name\": \"culture clash\"}, {\"id\":...   \n",
       "1  [{\"id\": 270, \"name\": \"ocean\"}, {\"id\": 726, \"na...   \n",
       "2  [{\"id\": 470, \"name\": \"spy\"}, {\"id\": 818, \"name...   \n",
       "3  [{\"id\": 849, \"name\": \"dc comics\"}, {\"id\": 853,...   \n",
       "4  [{\"id\": 818, \"name\": \"based on novel\"}, {\"id\":...   \n",
       "\n",
       "                                                cast  \\\n",
       "0  [{\"cast_id\": 242, \"character\": \"Jake Sully\", \"...   \n",
       "1  [{\"cast_id\": 4, \"character\": \"Captain Jack Spa...   \n",
       "2  [{\"cast_id\": 1, \"character\": \"James Bond\", \"cr...   \n",
       "3  [{\"cast_id\": 2, \"character\": \"Bruce Wayne / Ba...   \n",
       "4  [{\"cast_id\": 5, \"character\": \"John Carter\", \"c...   \n",
       "\n",
       "                                                crew  \n",
       "0  [{\"credit_id\": \"52fe48009251416c750aca23\", \"de...  \n",
       "1  [{\"credit_id\": \"52fe4232c3a36847f800b579\", \"de...  \n",
       "2  [{\"credit_id\": \"54805967c3a36829b5002c41\", \"de...  \n",
       "3  [{\"credit_id\": \"52fe4781c3a36847f81398c3\", \"de...  \n",
       "4  [{\"credit_id\": \"52fe479ac3a36847f813eaa3\", \"de...  "
      ]
     },
     "execution_count": 8,
     "metadata": {},
     "output_type": "execute_result"
    }
   ],
   "source": [
    "movies.head()"
   ]
  },
  {
   "cell_type": "code",
   "execution_count": 9,
   "id": "82e0030e-6b1a-40c5-8219-df22892030c4",
   "metadata": {},
   "outputs": [
    {
     "data": {
      "text/plain": [
       "movie_id    0\n",
       "title       0\n",
       "overview    3\n",
       "genres      0\n",
       "keywords    0\n",
       "cast        0\n",
       "crew        0\n",
       "dtype: int64"
      ]
     },
     "execution_count": 9,
     "metadata": {},
     "output_type": "execute_result"
    }
   ],
   "source": [
    "movies.isnull().sum()"
   ]
  },
  {
   "cell_type": "code",
   "execution_count": 10,
   "id": "d43cfc53-a07b-489f-ae2e-614c19f50577",
   "metadata": {},
   "outputs": [
    {
     "data": {
      "text/plain": [
       "np.int64(0)"
      ]
     },
     "execution_count": 10,
     "metadata": {},
     "output_type": "execute_result"
    }
   ],
   "source": [
    "movies.duplicated().sum()"
   ]
  },
  {
   "cell_type": "code",
   "execution_count": 11,
   "id": "6bca0141-cd4a-4bf7-8075-f3ae8bd3fa9f",
   "metadata": {},
   "outputs": [
    {
     "data": {
      "text/plain": [
       "'[{\"id\": 28, \"name\": \"Action\"}, {\"id\": 12, \"name\": \"Adventure\"}, {\"id\": 14, \"name\": \"Fantasy\"}, {\"id\": 878, \"name\": \"Science Fiction\"}]'"
      ]
     },
     "execution_count": 11,
     "metadata": {},
     "output_type": "execute_result"
    }
   ],
   "source": [
    "movies.iloc[0].genres "
   ]
  },
  {
   "cell_type": "code",
   "execution_count": 12,
   "id": "ac7f1dd3-0399-4d53-8456-f2bc9d67ffa4",
   "metadata": {},
   "outputs": [],
   "source": [
    "import ast "
   ]
  },
  {
   "cell_type": "code",
   "execution_count": 13,
   "id": "eca44482-5211-4f7a-a17f-13480ef0b1cd",
   "metadata": {},
   "outputs": [],
   "source": [
    "def convert(obj):\n",
    "    L = []\n",
    "    for i in ast.literal_eval(obj):\n",
    "        L.append(i['name'])\n",
    "    return L"
   ]
  },
  {
   "cell_type": "code",
   "execution_count": 14,
   "id": "b5ea3dda-574a-4f5f-8544-f410f8bb3e1d",
   "metadata": {},
   "outputs": [],
   "source": [
    "movies['genres']=movies['genres'].apply(convert) "
   ]
  },
  {
   "cell_type": "code",
   "execution_count": 15,
   "id": "7d8800b8-2e62-4112-85c0-250fb77525e9",
   "metadata": {},
   "outputs": [],
   "source": [
    "movies['keywords']=movies['keywords'].apply(convert)"
   ]
  },
  {
   "cell_type": "code",
   "execution_count": 16,
   "id": "bc2c9cb9-b8e2-4000-8413-d213a05f7a65",
   "metadata": {},
   "outputs": [],
   "source": [
    "def convert1(obj):\n",
    "    L = []\n",
    "    for i in ast.literal_eval(obj):\n",
    "        L.append(i['name'])\n",
    "        if len(L)==3:\n",
    "            break\n",
    "    return L"
   ]
  },
  {
   "cell_type": "code",
   "execution_count": 17,
   "id": "c8125e46-86ae-4097-be21-f44ffa62e5d3",
   "metadata": {},
   "outputs": [],
   "source": [
    "movies['cast']=movies['cast'].apply(convert1)"
   ]
  },
  {
   "cell_type": "code",
   "execution_count": 18,
   "id": "28e0b014-22ef-4100-9d6c-84619a3e6677",
   "metadata": {},
   "outputs": [
    {
     "data": {
      "text/plain": [
       "0        [Sam Worthington, Zoe Saldana, Sigourney Weaver]\n",
       "1           [Johnny Depp, Orlando Bloom, Keira Knightley]\n",
       "2            [Daniel Craig, Christoph Waltz, Léa Seydoux]\n",
       "3            [Christian Bale, Michael Caine, Gary Oldman]\n",
       "4          [Taylor Kitsch, Lynn Collins, Samantha Morton]\n",
       "                              ...                        \n",
       "4804    [Carlos Gallardo, Jaime de Hoyos, Peter Marqua...\n",
       "4805         [Edward Burns, Kerry Bishé, Marsha Dietlein]\n",
       "4806           [Eric Mabius, Kristin Booth, Crystal Lowe]\n",
       "4807            [Daniel Henney, Eliza Coupe, Bill Paxton]\n",
       "4808    [Drew Barrymore, Brian Herzlinger, Corey Feldman]\n",
       "Name: cast, Length: 4809, dtype: object"
      ]
     },
     "execution_count": 18,
     "metadata": {},
     "output_type": "execute_result"
    }
   ],
   "source": [
    "movies['cast']"
   ]
  },
  {
   "cell_type": "code",
   "execution_count": 19,
   "id": "315fb7e8-2769-4367-941b-ab2d7cea30b6",
   "metadata": {},
   "outputs": [
    {
     "data": {
      "text/html": [
       "<div>\n",
       "<style scoped>\n",
       "    .dataframe tbody tr th:only-of-type {\n",
       "        vertical-align: middle;\n",
       "    }\n",
       "\n",
       "    .dataframe tbody tr th {\n",
       "        vertical-align: top;\n",
       "    }\n",
       "\n",
       "    .dataframe thead th {\n",
       "        text-align: right;\n",
       "    }\n",
       "</style>\n",
       "<table border=\"1\" class=\"dataframe\">\n",
       "  <thead>\n",
       "    <tr style=\"text-align: right;\">\n",
       "      <th></th>\n",
       "      <th>movie_id</th>\n",
       "      <th>title</th>\n",
       "      <th>overview</th>\n",
       "      <th>genres</th>\n",
       "      <th>keywords</th>\n",
       "      <th>cast</th>\n",
       "      <th>crew</th>\n",
       "    </tr>\n",
       "  </thead>\n",
       "  <tbody>\n",
       "    <tr>\n",
       "      <th>0</th>\n",
       "      <td>19995</td>\n",
       "      <td>Avatar</td>\n",
       "      <td>In the 22nd century, a paraplegic Marine is di...</td>\n",
       "      <td>[Action, Adventure, Fantasy, Science Fiction]</td>\n",
       "      <td>[culture clash, future, space war, space colon...</td>\n",
       "      <td>[Sam Worthington, Zoe Saldana, Sigourney Weaver]</td>\n",
       "      <td>[{\"credit_id\": \"52fe48009251416c750aca23\", \"de...</td>\n",
       "    </tr>\n",
       "    <tr>\n",
       "      <th>1</th>\n",
       "      <td>285</td>\n",
       "      <td>Pirates of the Caribbean: At World's End</td>\n",
       "      <td>Captain Barbossa, long believed to be dead, ha...</td>\n",
       "      <td>[Adventure, Fantasy, Action]</td>\n",
       "      <td>[ocean, drug abuse, exotic island, east india ...</td>\n",
       "      <td>[Johnny Depp, Orlando Bloom, Keira Knightley]</td>\n",
       "      <td>[{\"credit_id\": \"52fe4232c3a36847f800b579\", \"de...</td>\n",
       "    </tr>\n",
       "    <tr>\n",
       "      <th>2</th>\n",
       "      <td>206647</td>\n",
       "      <td>Spectre</td>\n",
       "      <td>A cryptic message from Bond’s past sends him o...</td>\n",
       "      <td>[Action, Adventure, Crime]</td>\n",
       "      <td>[spy, based on novel, secret agent, sequel, mi...</td>\n",
       "      <td>[Daniel Craig, Christoph Waltz, Léa Seydoux]</td>\n",
       "      <td>[{\"credit_id\": \"54805967c3a36829b5002c41\", \"de...</td>\n",
       "    </tr>\n",
       "    <tr>\n",
       "      <th>3</th>\n",
       "      <td>49026</td>\n",
       "      <td>The Dark Knight Rises</td>\n",
       "      <td>Following the death of District Attorney Harve...</td>\n",
       "      <td>[Action, Crime, Drama, Thriller]</td>\n",
       "      <td>[dc comics, crime fighter, terrorist, secret i...</td>\n",
       "      <td>[Christian Bale, Michael Caine, Gary Oldman]</td>\n",
       "      <td>[{\"credit_id\": \"52fe4781c3a36847f81398c3\", \"de...</td>\n",
       "    </tr>\n",
       "    <tr>\n",
       "      <th>4</th>\n",
       "      <td>49529</td>\n",
       "      <td>John Carter</td>\n",
       "      <td>John Carter is a war-weary, former military ca...</td>\n",
       "      <td>[Action, Adventure, Science Fiction]</td>\n",
       "      <td>[based on novel, mars, medallion, space travel...</td>\n",
       "      <td>[Taylor Kitsch, Lynn Collins, Samantha Morton]</td>\n",
       "      <td>[{\"credit_id\": \"52fe479ac3a36847f813eaa3\", \"de...</td>\n",
       "    </tr>\n",
       "  </tbody>\n",
       "</table>\n",
       "</div>"
      ],
      "text/plain": [
       "   movie_id                                     title  \\\n",
       "0     19995                                    Avatar   \n",
       "1       285  Pirates of the Caribbean: At World's End   \n",
       "2    206647                                   Spectre   \n",
       "3     49026                     The Dark Knight Rises   \n",
       "4     49529                               John Carter   \n",
       "\n",
       "                                            overview  \\\n",
       "0  In the 22nd century, a paraplegic Marine is di...   \n",
       "1  Captain Barbossa, long believed to be dead, ha...   \n",
       "2  A cryptic message from Bond’s past sends him o...   \n",
       "3  Following the death of District Attorney Harve...   \n",
       "4  John Carter is a war-weary, former military ca...   \n",
       "\n",
       "                                          genres  \\\n",
       "0  [Action, Adventure, Fantasy, Science Fiction]   \n",
       "1                   [Adventure, Fantasy, Action]   \n",
       "2                     [Action, Adventure, Crime]   \n",
       "3               [Action, Crime, Drama, Thriller]   \n",
       "4           [Action, Adventure, Science Fiction]   \n",
       "\n",
       "                                            keywords  \\\n",
       "0  [culture clash, future, space war, space colon...   \n",
       "1  [ocean, drug abuse, exotic island, east india ...   \n",
       "2  [spy, based on novel, secret agent, sequel, mi...   \n",
       "3  [dc comics, crime fighter, terrorist, secret i...   \n",
       "4  [based on novel, mars, medallion, space travel...   \n",
       "\n",
       "                                               cast  \\\n",
       "0  [Sam Worthington, Zoe Saldana, Sigourney Weaver]   \n",
       "1     [Johnny Depp, Orlando Bloom, Keira Knightley]   \n",
       "2      [Daniel Craig, Christoph Waltz, Léa Seydoux]   \n",
       "3      [Christian Bale, Michael Caine, Gary Oldman]   \n",
       "4    [Taylor Kitsch, Lynn Collins, Samantha Morton]   \n",
       "\n",
       "                                                crew  \n",
       "0  [{\"credit_id\": \"52fe48009251416c750aca23\", \"de...  \n",
       "1  [{\"credit_id\": \"52fe4232c3a36847f800b579\", \"de...  \n",
       "2  [{\"credit_id\": \"54805967c3a36829b5002c41\", \"de...  \n",
       "3  [{\"credit_id\": \"52fe4781c3a36847f81398c3\", \"de...  \n",
       "4  [{\"credit_id\": \"52fe479ac3a36847f813eaa3\", \"de...  "
      ]
     },
     "execution_count": 19,
     "metadata": {},
     "output_type": "execute_result"
    }
   ],
   "source": [
    "movies.head()"
   ]
  },
  {
   "cell_type": "code",
   "execution_count": 20,
   "id": "274b7f1b-fbc1-4d1e-b100-38c1e13f2e12",
   "metadata": {},
   "outputs": [
    {
     "data": {
      "text/plain": [
       "'[{\"credit_id\": \"52fe4781c3a36847f81398c3\", \"department\": \"Sound\", \"gender\": 2, \"id\": 947, \"job\": \"Original Music Composer\", \"name\": \"Hans Zimmer\"}, {\"credit_id\": \"52fe4781c3a36847f8139899\", \"department\": \"Production\", \"gender\": 0, \"id\": 282, \"job\": \"Producer\", \"name\": \"Charles Roven\"}, {\"credit_id\": \"52fe4781c3a36847f813991b\", \"department\": \"Writing\", \"gender\": 2, \"id\": 525, \"job\": \"Screenplay\", \"name\": \"Christopher Nolan\"}, {\"credit_id\": \"52fe4781c3a36847f8139865\", \"department\": \"Directing\", \"gender\": 2, \"id\": 525, \"job\": \"Director\", \"name\": \"Christopher Nolan\"}, {\"credit_id\": \"52fe4781c3a36847f8139893\", \"department\": \"Production\", \"gender\": 2, \"id\": 525, \"job\": \"Producer\", \"name\": \"Christopher Nolan\"}, {\"credit_id\": \"52fe4781c3a36847f8139915\", \"department\": \"Writing\", \"gender\": 2, \"id\": 525, \"job\": \"Story\", \"name\": \"Christopher Nolan\"}, {\"credit_id\": \"52fe4781c3a36847f813990f\", \"department\": \"Writing\", \"gender\": 2, \"id\": 527, \"job\": \"Screenplay\", \"name\": \"Jonathan Nolan\"}, {\"credit_id\": \"52fe4781c3a36847f813989f\", \"department\": \"Production\", \"gender\": 1, \"id\": 556, \"job\": \"Producer\", \"name\": \"Emma Thomas\"}, {\"credit_id\": \"52fe4781c3a36847f81398c9\", \"department\": \"Camera\", \"gender\": 2, \"id\": 559, \"job\": \"Director of Photography\", \"name\": \"Wally Pfister\"}, {\"credit_id\": \"54c37788c3a3681421011a07\", \"department\": \"Camera\", \"gender\": 2, \"id\": 559, \"job\": \"Camera Operator\", \"name\": \"Wally Pfister\"}, {\"credit_id\": \"52fe4781c3a36847f81398d5\", \"department\": \"Production\", \"gender\": 0, \"id\": 561, \"job\": \"Casting\", \"name\": \"John Papsidera\"}, {\"credit_id\": \"52fe4781c3a36847f8139921\", \"department\": \"Writing\", \"gender\": 2, \"id\": 3893, \"job\": \"Story\", \"name\": \"David S. Goyer\"}, {\"credit_id\": \"52fe4781c3a36847f81398a5\", \"department\": \"Writing\", \"gender\": 2, \"id\": 3794, \"job\": \"Characters\", \"name\": \"Bob Kane\"}, {\"credit_id\": \"52fe4781c3a36847f81398cf\", \"department\": \"Editing\", \"gender\": 0, \"id\": 3904, \"job\": \"Editor\", \"name\": \"Lee Smith\"}, {\"credit_id\": \"52fe4781c3a36847f81398bd\", \"department\": \"Production\", \"gender\": 2, \"id\": 10949, \"job\": \"Executive Producer\", \"name\": \"Michael Uslan\"}, {\"credit_id\": \"52fe4781c3a36847f81398b1\", \"department\": \"Production\", \"gender\": 2, \"id\": 10951, \"job\": \"Executive Producer\", \"name\": \"Benjamin Melniker\"}, {\"credit_id\": \"564e1be99251414af7000269\", \"department\": \"Crew\", \"gender\": 2, \"id\": 9568, \"job\": \"Stunts\", \"name\": \"Jim Palmer\"}, {\"credit_id\": \"54c224cec3a368792c00322f\", \"department\": \"Costume & Make-Up\", \"gender\": 0, \"id\": 9991, \"job\": \"Makeup Artist\", \"name\": \"Karen Blynder\"}, {\"credit_id\": \"52fe4781c3a36847f81398f9\", \"department\": \"Costume & Make-Up\", \"gender\": 1, \"id\": 10714, \"job\": \"Costume Design\", \"name\": \"Lindy Hemming\"}, {\"credit_id\": \"52fe4781c3a36847f81398f3\", \"department\": \"Art\", \"gender\": 0, \"id\": 12039, \"job\": \"Set Decoration\", \"name\": \"Paki Smith\"}, {\"credit_id\": \"52fe4781c3a36847f8139905\", \"department\": \"Art\", \"gender\": 2, \"id\": 14762, \"job\": \"Art Direction\", \"name\": \"Robert Woodruff\"}, {\"credit_id\": \"52fe4781c3a36847f81398e1\", \"department\": \"Art\", \"gender\": 2, \"id\": 15327, \"job\": \"Production Design\", \"name\": \"Nathan Crowley\"}, {\"credit_id\": \"52fe4781c3a36847f81398e7\", \"department\": \"Art\", \"gender\": 0, \"id\": 15328, \"job\": \"Production Design\", \"name\": \"Kevin Kavanaugh\"}, {\"credit_id\": \"570b91d29251415248001736\", \"department\": \"Art\", \"gender\": 0, \"id\": 17677, \"job\": \"Supervising Art Director\", \"name\": \"Naaman Marshall\"}, {\"credit_id\": \"57c4678f92514105db0046d4\", \"department\": \"Lighting\", \"gender\": 0, \"id\": 35630, \"job\": \"Electrician\", \"name\": \"Timothy Healy\"}, {\"credit_id\": \"5745d36e92514129a0002e7c\", \"department\": \"Lighting\", \"gender\": 0, \"id\": 40120, \"job\": \"Rigging Grip\", \"name\": \"Brian \\'Buzz\\' Buzzelli\"}, {\"credit_id\": \"54c2732b9251416eae00cab6\", \"department\": \"Sound\", \"gender\": 2, \"id\": 52193, \"job\": \"ADR & Dubbing\", \"name\": \"R.J. Kizer\"}, {\"credit_id\": \"52fe4781c3a36847f81398b7\", \"department\": \"Production\", \"gender\": 0, \"id\": 54211, \"job\": \"Executive Producer\", \"name\": \"Thomas Tull\"}, {\"credit_id\": \"56aa55a092514159a5001cf3\", \"department\": \"Crew\", \"gender\": 2, \"id\": 57569, \"job\": \"Stunts\", \"name\": \"Lee Sheward\"}, {\"credit_id\": \"56817f919251417def0118c9\", \"department\": \"Crew\", \"gender\": 0, \"id\": 61329, \"job\": \"Stunts\", \"name\": \"Declan Mulvey\"}, {\"credit_id\": \"52fe4781c3a36847f81398ff\", \"department\": \"Art\", \"gender\": 0, \"id\": 62560, \"job\": \"Art Direction\", \"name\": \"Gerald Sullivan\"}, {\"credit_id\": \"54c2234d925141315a005b6b\", \"department\": \"Art\", \"gender\": 0, \"id\": 31172, \"job\": \"Art Direction\", \"name\": \"Zack Grobler\"}, {\"credit_id\": \"579d0191c3a36828b100130b\", \"department\": \"Sound\", \"gender\": 0, \"id\": 68016, \"job\": \"Orchestrator\", \"name\": \"Kevin Kaska\"}, {\"credit_id\": \"56d9d2c9925141340201f6ed\", \"department\": \"Crew\", \"gender\": 2, \"id\": 81687, \"job\": \"Stunts\", \"name\": \"Rick Avery\"}, {\"credit_id\": \"52fe4781c3a36847f81398ab\", \"department\": \"Production\", \"gender\": 2, \"id\": 75804, \"job\": \"Executive Producer\", \"name\": \"Kevin De La Noy\"}, {\"credit_id\": \"5766cb129251411323000031\", \"department\": \"Production\", \"gender\": 0, \"id\": 113913, \"job\": \"Co-Producer\", \"name\": \"Jordan Goldberg\"}, {\"credit_id\": \"54c227c2c3a3686c61012820\", \"department\": \"Production\", \"gender\": 0, \"id\": 114017, \"job\": \"Production Manager\", \"name\": \"Karl McMillan\"}, {\"credit_id\": \"54c375f6c3a36833380010e1\", \"department\": \"Visual Effects\", \"gender\": 0, \"id\": 92231, \"job\": \"VFX Supervisor\", \"name\": \"May Leung\"}, {\"credit_id\": \"56c605c9c3a3680d4e003645\", \"department\": \"Crew\", \"gender\": 2, \"id\": 122549, \"job\": \"Stunts\", \"name\": \"Philippe Vonlanthen\"}, {\"credit_id\": \"54c274859251416e6000d4ee\", \"department\": \"Sound\", \"gender\": 0, \"id\": 138618, \"job\": \"Sound Re-Recording Mixer\", \"name\": \"Gary Rizzo\"}, {\"credit_id\": \"56e76ae3c3a368408c000be7\", \"department\": \"Crew\", \"gender\": 0, \"id\": 142157, \"job\": \"Stunts\", \"name\": \"Doug Coleman\"}, {\"credit_id\": \"579794d19251411a9000004d\", \"department\": \"Crew\", \"gender\": 2, \"id\": 202930, \"job\": \"Stunts\", \"name\": \"Anthony Molinari\"}, {\"credit_id\": \"568181699251411334008948\", \"department\": \"Crew\", \"gender\": 0, \"id\": 204339, \"job\": \"Stunts\", \"name\": \"Christopher Place\"}, {\"credit_id\": \"56a7b806c3a36828b800190b\", \"department\": \"Sound\", \"gender\": 0, \"id\": 230436, \"job\": \"ADR & Dubbing\", \"name\": \"Barbara Harris\"}, {\"credit_id\": \"564e1b75c3a368070f000288\", \"department\": \"Crew\", \"gender\": 0, \"id\": 550900, \"job\": \"Stunts\", \"name\": \"Carrick O\\'Quinn\"}, {\"credit_id\": \"57531069c3a3684c100007ef\", \"department\": \"Sound\", \"gender\": 2, \"id\": 932186, \"job\": \"Orchestrator\", \"name\": \"Bruce Fowler\"}, {\"credit_id\": \"568035f3c3a3684bcc00e7b2\", \"department\": \"Crew\", \"gender\": 2, \"id\": 932748, \"job\": \"Stunts\", \"name\": \"Roy T. Anderson\"}, {\"credit_id\": \"54c2239fc3a36879290038ba\", \"department\": \"Art\", \"gender\": 2, \"id\": 969743, \"job\": \"Art Direction\", \"name\": \"Dean Wolcott\"}, {\"credit_id\": \"52fe4781c3a36847f81398db\", \"department\": \"Production\", \"gender\": 0, \"id\": 1018958, \"job\": \"Casting\", \"name\": \"Toby Whale\"}, {\"credit_id\": \"56a189729251415e5e00fd3b\", \"department\": \"Crew\", \"gender\": 2, \"id\": 1025090, \"job\": \"Stunts\", \"name\": \"Jim Wilkey\"}, {\"credit_id\": \"570b91c3c3a3684f41003b4c\", \"department\": \"Art\", \"gender\": 0, \"id\": 1034754, \"job\": \"Supervising Art Director\", \"name\": \"James Hambidge\"}, {\"credit_id\": \"568183ab9251414f6300a6f8\", \"department\": \"Crew\", \"gender\": 0, \"id\": 1045964, \"job\": \"Stunts\", \"name\": \"Aaron Vexler\"}, {\"credit_id\": \"54c37a699251412446005572\", \"department\": \"Costume & Make-Up\", \"gender\": 0, \"id\": 1046614, \"job\": \"Set Costumer\", \"name\": \"Carmia Marshall\"}, {\"credit_id\": \"54c2737bc3a368792c003905\", \"department\": \"Editing\", \"gender\": 0, \"id\": 1050930, \"job\": \"Dialogue Editor\", \"name\": \"Hugo Weng\"}, {\"credit_id\": \"57a29134c3a36832b8001afb\", \"department\": \"Crew\", \"gender\": 0, \"id\": 1061061, \"job\": \"Stunts\", \"name\": \"Adam Horton\"}, {\"credit_id\": \"56aba40e9251410e8f002cf7\", \"department\": \"Crew\", \"gender\": 0, \"id\": 1106629, \"job\": \"Stunts\", \"name\": \"Raymond Mamrak\"}, {\"credit_id\": \"54c27360925141315a0062e4\", \"department\": \"Sound\", \"gender\": 2, \"id\": 1116937, \"job\": \"Foley\", \"name\": \"John Roesch\"}, {\"credit_id\": \"54c3717792514124c8005220\", \"department\": \"Visual Effects\", \"gender\": 0, \"id\": 1155668, \"job\": \"Visual Effects Producer\", \"name\": \"Mike Chambers\"}, {\"credit_id\": \"54c226f2c3a368792c003267\", \"department\": \"Production\", \"gender\": 0, \"id\": 1270053, \"job\": \"Production Manager\", \"name\": \"Emmanuel Pappas\"}, {\"credit_id\": \"568186c0c3a36828f5006e04\", \"department\": \"Crew\", \"gender\": 0, \"id\": 1301652, \"job\": \"Stunts\", \"name\": \"Stephen W. Schriver\"}, {\"credit_id\": \"54c379b4c3a3687c4000fcd6\", \"department\": \"Costume & Make-Up\", \"gender\": 0, \"id\": 1319744, \"job\": \"Costume Supervisor\", \"name\": \"Linda Matthews\"}, {\"credit_id\": \"54c2248cc3a36878fb003164\", \"department\": \"Costume & Make-Up\", \"gender\": 0, \"id\": 1322015, \"job\": \"Makeup Department Head\", \"name\": \"Luisa Abel\"}, {\"credit_id\": \"54c2238192514124890035aa\", \"department\": \"Art\", \"gender\": 0, \"id\": 1327144, \"job\": \"Art Direction\", \"name\": \"Sue Whitaker\"}, {\"credit_id\": \"56817e2192514113340088e0\", \"department\": \"Crew\", \"gender\": 1, \"id\": 1329415, \"job\": \"Stunts\", \"name\": \"Samantha MacIvor\"}, {\"credit_id\": \"56817898c3a3684bcc011ff7\", \"department\": \"Crew\", \"gender\": 0, \"id\": 1329527, \"job\": \"Stunts\", \"name\": \"Jared Burke\"}, {\"credit_id\": \"54c3796cc3a36878d00059fb\", \"department\": \"Costume & Make-Up\", \"gender\": 0, \"id\": 1336192, \"job\": \"Costume Supervisor\", \"name\": \"Laura Downing\"}, {\"credit_id\": \"54c37a9292514124c800531e\", \"department\": \"Costume & Make-Up\", \"gender\": 0, \"id\": 1336193, \"job\": \"Set Costumer\", \"name\": \"Rebecca Levin\"}, {\"credit_id\": \"5796b492c3a3680cfa002ae3\", \"department\": \"Crew\", \"gender\": 0, \"id\": 1340941, \"job\": \"Stunts\", \"name\": \"Ray Siegle\"}, {\"credit_id\": \"54c273cf92514124ed003c05\", \"department\": \"Sound\", \"gender\": 2, \"id\": 1341403, \"job\": \"Sound Designer\", \"name\": \"Richard King\"}, {\"credit_id\": \"54c2739dc3a368792c003908\", \"department\": \"Sound\", \"gender\": 2, \"id\": 1341403, \"job\": \"Supervising Sound Editor\", \"name\": \"Richard King\"}, {\"credit_id\": \"54c27458c3a36878fb003835\", \"department\": \"Sound\", \"gender\": 0, \"id\": 1341786, \"job\": \"Sound Effects Editor\", \"name\": \"Bryan O. Watkins\"}, {\"credit_id\": \"54e4a102c3a368087b005200\", \"department\": \"Crew\", \"gender\": 0, \"id\": 1348686, \"job\": \"Production Office Assistant\", \"name\": \"Bradley Porter\"}, {\"credit_id\": \"54c22e3d92514124c8003387\", \"department\": \"Art\", \"gender\": 0, \"id\": 1355530, \"job\": \"Sculptor\", \"name\": \"Cuitlahuac Morales Velazquez\"}, {\"credit_id\": \"54c27591c3a36879290040e9\", \"department\": \"Crew\", \"gender\": 0, \"id\": 1357062, \"job\": \"Special Effects Coordinator\", \"name\": \"Scott R. Fisher\"}, {\"credit_id\": \"54c376f492514124460054fe\", \"department\": \"Camera\", \"gender\": 0, \"id\": 1357064, \"job\": \"Camera Operator\", \"name\": \"Greg Baldi\"}, {\"credit_id\": \"54c37756c3a3683338001106\", \"department\": \"Camera\", \"gender\": 0, \"id\": 1357066, \"job\": \"Camera Operator\", \"name\": \"P. Scott Sakamoto\"}, {\"credit_id\": \"54c37c5692514124c8005349\", \"department\": \"Crew\", \"gender\": 0, \"id\": 1357070, \"job\": \"Transportation Coordinator\", \"name\": \"Denny Caira\"}, {\"credit_id\": \"5681830ec3a3684be9010b3b\", \"department\": \"Crew\", \"gender\": 2, \"id\": 1358564, \"job\": \"Stunts\", \"name\": \"Trampas Thompson\"}, {\"credit_id\": \"54c37cdc92514124460055a5\", \"department\": \"Directing\", \"gender\": 2, \"id\": 1367508, \"job\": \"Script Supervisor\", \"name\": \"Steve Gehrke\"}, {\"credit_id\": \"54c37345c3a36833380010a6\", \"department\": \"Crew\", \"gender\": 0, \"id\": 1372882, \"job\": \"Visual Effects Editor\", \"name\": \"Derrick Mitchell\"}, {\"credit_id\": \"54c27414c3a368792c003910\", \"department\": \"Sound\", \"gender\": 0, \"id\": 1377222, \"job\": \"Sound Effects Editor\", \"name\": \"Michael W. Mitchell\"}, {\"credit_id\": \"54c22a06c3a368792c0032a2\", \"department\": \"Art\", \"gender\": 0, \"id\": 1378222, \"job\": \"Construction Coordinator\", \"name\": \"Joe Ondrejko\"}, {\"credit_id\": \"567607a192514179e3003fd2\", \"department\": \"Sound\", \"gender\": 0, \"id\": 1378231, \"job\": \"Sound Effects Editor\", \"name\": \"Ken J. Johnson\"}, {\"credit_id\": \"54c37b21c3a368789b0059cb\", \"department\": \"Costume & Make-Up\", \"gender\": 0, \"id\": 1378246, \"job\": \"Set Costumer\", \"name\": \"Lori Harris\"}, {\"credit_id\": \"54c37e8cc3a3681421011a9c\", \"department\": \"Crew\", \"gender\": 0, \"id\": 1378726, \"job\": \"Dialect Coach\", \"name\": \"Francie Brown\"}, {\"credit_id\": \"568185c592514132db00f267\", \"department\": \"Crew\", \"gender\": 0, \"id\": 1384390, \"job\": \"Stunts\", \"name\": \"Trevor Habberstad\"}, {\"credit_id\": \"54c22976925141315a005be2\", \"department\": \"Art\", \"gender\": 0, \"id\": 1389526, \"job\": \"Construction Coordinator\", \"name\": \"Amanda Pettett\"}, {\"credit_id\": \"54c37a01c3a36878fb00500a\", \"department\": \"Costume & Make-Up\", \"gender\": 0, \"id\": 1391648, \"job\": \"Set Costumer\", \"name\": \"Hana Rausalova\"}, {\"credit_id\": \"54c2236fc3a36878fb003141\", \"department\": \"Art\", \"gender\": 0, \"id\": 1392587, \"job\": \"Art Direction\", \"name\": \"Tom Still\"}, {\"credit_id\": \"54c2757792514124c80039d9\", \"department\": \"Crew\", \"gender\": 0, \"id\": 1393387, \"job\": \"Special Effects Coordinator\", \"name\": \"Jeff Brink\"}, {\"credit_id\": \"54c37d0492514124460055a7\", \"department\": \"Crew\", \"gender\": 0, \"id\": 1394050, \"job\": \"Dialect Coach\", \"name\": \"Paula Jack\"}, {\"credit_id\": \"54c37b3cc3a368792c0050eb\", \"department\": \"Costume & Make-Up\", \"gender\": 0, \"id\": 1395030, \"job\": \"Set Costumer\", \"name\": \"Alison Evans\"}, {\"credit_id\": \"54c37ae1c3a3687929005bf1\", \"department\": \"Costume & Make-Up\", \"gender\": 0, \"id\": 1395032, \"job\": \"Set Costumer\", \"name\": \"Amanda Jenkins\"}, {\"credit_id\": \"54c22849c3a368789b0037cf\", \"department\": \"Art\", \"gender\": 0, \"id\": 1395430, \"job\": \"Art Department Coordinator\", \"name\": \"Jenne Lee\"}, {\"credit_id\": \"54c22e1cc3a36878fb003228\", \"department\": \"Art\", \"gender\": 0, \"id\": 1395435, \"job\": \"Set Designer\", \"name\": \"Theodore Sharps\"}, {\"credit_id\": \"54c2734bc3a368789b003f6a\", \"department\": \"Sound\", \"gender\": 0, \"id\": 1397823, \"job\": \"Foley\", \"name\": \"Alyson Dee Moore\"}, {\"credit_id\": \"54c22b05c3a36878d000384e\", \"department\": \"Art\", \"gender\": 0, \"id\": 1398089, \"job\": \"Greensman\", \"name\": \"Ian Whiteford\"}, {\"credit_id\": \"54c3785cc3a36878fb004fd2\", \"department\": \"Camera\", \"gender\": 0, \"id\": 1399071, \"job\": \"Helicopter Camera\", \"name\": \"Hans Bjerno\"}, {\"credit_id\": \"54c37a339251416e6000ee25\", \"department\": \"Costume & Make-Up\", \"gender\": 0, \"id\": 1399323, \"job\": \"Set Costumer\", \"name\": \"Mustapha Mimis\"}, {\"credit_id\": \"54c22b5a9251416e6000cdc1\", \"department\": \"Art\", \"gender\": 0, \"id\": 1399463, \"job\": \"Leadman\", \"name\": \"Bruce Lee Gross\"}, {\"credit_id\": \"54c378cfc3a3687929005bb1\", \"department\": \"Camera\", \"gender\": 0, \"id\": 1399876, \"job\": \"Still Photographer\", \"name\": \"Ron Phillips\"}, {\"credit_id\": \"54c37afbc3a368792c0050e2\", \"department\": \"Costume & Make-Up\", \"gender\": 0, \"id\": 1401814, \"job\": \"Set Costumer\", \"name\": \"Alejandro M. Hernandez\"}, {\"credit_id\": \"54c37e5a925141243200588d\", \"department\": \"Crew\", \"gender\": 1, \"id\": 1402008, \"job\": \"Dialect Coach\", \"name\": \"Kathleen S. Dunn\"}, {\"credit_id\": \"57785421c3a36826c9000a83\", \"department\": \"Directing\", \"gender\": 0, \"id\": 1402079, \"job\": \"Assistant Director\", \"name\": \"Matthew Reedy\"}, {\"credit_id\": \"54c223c2c3a3686c610127d0\", \"department\": \"Costume & Make-Up\", \"gender\": 0, \"id\": 1403424, \"job\": \"Costume Design\", \"name\": \"Roberto Craciunica\"}, {\"credit_id\": \"54c227f6c3a36878fb0031a8\", \"department\": \"Production\", \"gender\": 0, \"id\": 1403427, \"job\": \"Production Supervisor\", \"name\": \"Candice D. Campos\"}, {\"credit_id\": \"54c3780d925141248900573b\", \"department\": \"Camera\", \"gender\": 0, \"id\": 1404739, \"job\": \"Helicopter Camera\", \"name\": \"Steve Koster\"}, {\"credit_id\": \"54c37482c3a36878fb004f73\", \"department\": \"Visual Effects\", \"gender\": 0, \"id\": 1408347, \"job\": \"Visual Effects Supervisor\", \"name\": \"Pete Bebb\"}, {\"credit_id\": \"54c2254892514124ed003561\", \"department\": \"Costume & Make-Up\", \"gender\": 0, \"id\": 1409824, \"job\": \"Wigmaker\", \"name\": \"Natasha Ladek\"}, {\"credit_id\": \"567d811dc3a36860e9006747\", \"department\": \"Art\", \"gender\": 0, \"id\": 1411808, \"job\": \"Painter\", \"name\": \"Chris Bertholf\"}, {\"credit_id\": \"54c224b7c3a36879290038de\", \"department\": \"Costume & Make-Up\", \"gender\": 0, \"id\": 1412185, \"job\": \"Makeup Artist\", \"name\": \"Jay Wejebe\"}, {\"credit_id\": \"54c22a7e92514124ed0035cf\", \"department\": \"Art\", \"gender\": 0, \"id\": 1413089, \"job\": \"Construction Foreman\", \"name\": \"William Gideon\"}, {\"credit_id\": \"54c3761dc3a368789b005920\", \"department\": \"Crew\", \"gender\": 0, \"id\": 1415157, \"job\": \"Sequence Supervisor\", \"name\": \"Joel Green\"}, {\"credit_id\": \"56fd6190c3a3685cda0005de\", \"department\": \"Crew\", \"gender\": 0, \"id\": 1415606, \"job\": \"Makeup Effects\", \"name\": \"Diana Choi\"}, {\"credit_id\": \"54c37e11c3a3681421011a8f\", \"department\": \"Crew\", \"gender\": 0, \"id\": 1416005, \"job\": \"Unit Publicist\", \"name\": \"Claudia Kalindjian\"}, {\"credit_id\": \"54c2233c92514124c8003261\", \"department\": \"Art\", \"gender\": 0, \"id\": 1417396, \"job\": \"Art Direction\", \"name\": \"Toby Britton\"}, {\"credit_id\": \"54c2235ec3a368142100fa9a\", \"department\": \"Art\", \"gender\": 0, \"id\": 1417397, \"job\": \"Art Direction\", \"name\": \"Jonathan Kevin Ong\"}, {\"credit_id\": \"54c223ea9251416e6000cd21\", \"department\": \"Costume & Make-Up\", \"gender\": 0, \"id\": 1417398, \"job\": \"Hairstylist\", \"name\": \"Janice Alexander\"}, {\"credit_id\": \"54c2240292514124460034ac\", \"department\": \"Costume & Make-Up\", \"gender\": 0, \"id\": 1417399, \"job\": \"Hairstylist\", \"name\": \"Patricia DeHaney\"}, {\"credit_id\": \"54c224619251416eae00c3aa\", \"department\": \"Costume & Make-Up\", \"gender\": 0, \"id\": 1417400, \"job\": \"Hairstylist\", \"name\": \"Deena Adair\"}, {\"credit_id\": \"54c225c2c3a36878d00037bb\", \"department\": \"Crew\", \"gender\": 0, \"id\": 1417403, \"job\": \"Makeup Effects\", \"name\": \"Andre Gilbert\"}, {\"credit_id\": \"54c227a49251416e6000cd7b\", \"department\": \"Production\", \"gender\": 0, \"id\": 1417406, \"job\": \"Production Manager\", \"name\": \"Michael Murray\"}, {\"credit_id\": \"54c227dc925141248900361a\", \"department\": \"Production\", \"gender\": 0, \"id\": 1417407, \"job\": \"Production Manager\", \"name\": \"Thomas Hayslip\"}, {\"credit_id\": \"54c2280ec3a3687929003931\", \"department\": \"Production\", \"gender\": 0, \"id\": 1417408, \"job\": \"Production Supervisor\", \"name\": \"Mika Saito\"}, {\"credit_id\": \"54c22867c3a3686c6101282f\", \"department\": \"Art\", \"gender\": 0, \"id\": 1417409, \"job\": \"Art Department Coordinator\", \"name\": \"Pippa Needs\"}, {\"credit_id\": \"54c22883925141244600351e\", \"department\": \"Art\", \"gender\": 0, \"id\": 1417410, \"job\": \"Art Department Coordinator\", \"name\": \"Laura Pliskin\"}, {\"credit_id\": \"54c228d49251416e6000cd90\", \"department\": \"Art\", \"gender\": 0, \"id\": 1417411, \"job\": \"Assistant Art Director\", \"name\": \"Anna Bregman\"}, {\"credit_id\": \"54c2290cc3a36878fb0031c1\", \"department\": \"Art\", \"gender\": 0, \"id\": 1417412, \"job\": \"Assistant Art Director\", \"name\": \"Robert W. Joseph\"}, {\"credit_id\": \"54c22949c3a36878d000381a\", \"department\": \"Crew\", \"gender\": 0, \"id\": 1417413, \"job\": \"Property Master\", \"name\": \"Barry Wilkinson\"}, {\"credit_id\": \"54c229eec3a36878d0003836\", \"department\": \"Art\", \"gender\": 0, \"id\": 1417414, \"job\": \"Construction Coordinator\", \"name\": \"Glen Pangione\"}, {\"credit_id\": \"594851dac3a36816f6048d7d\", \"department\": \"Art\", \"gender\": 2, \"id\": 1417415, \"job\": \"Property Master\", \"name\": \"Mychael Bates\"}, {\"credit_id\": \"54c22ac69251416eae00c42c\", \"department\": \"Art\", \"gender\": 0, \"id\": 1417416, \"job\": \"Greensman\", \"name\": \"Brandon A. Plonka\"}, {\"credit_id\": \"54c22ae3c3a368792900396e\", \"department\": \"Crew\", \"gender\": 0, \"id\": 1417417, \"job\": \"Scenic Artist\", \"name\": \"Elizabeth Tomasetti\"}, {\"credit_id\": \"54c22d4592514124c8003368\", \"department\": \"Art\", \"gender\": 0, \"id\": 1417418, \"job\": \"Leadman\", \"name\": \"Sean Ginevan\"}, {\"credit_id\": \"54c22df6c3a36878d000388e\", \"department\": \"Art\", \"gender\": 0, \"id\": 1417419, \"job\": \"Set Designer\", \"name\": \"Jason Kolowski\"}, {\"credit_id\": \"54c273ec92514124ed003c0a\", \"department\": \"Sound\", \"gender\": 0, \"id\": 1417514, \"job\": \"Sound Effects Editor\", \"name\": \"Michael Babcock\"}, {\"credit_id\": \"54c2752392514124c80039d3\", \"department\": \"Sound\", \"gender\": 0, \"id\": 1417514, \"job\": \"Sound Re-Recording Mixer\", \"name\": \"Michael Babcock\"}, {\"credit_id\": \"54c273fec3a368789b003f7a\", \"department\": \"Sound\", \"gender\": 0, \"id\": 1417515, \"job\": \"Sound Effects Editor\", \"name\": \"Randle Akerson\"}, {\"credit_id\": \"54c27428925141315a0062f5\", \"department\": \"Sound\", \"gender\": 0, \"id\": 1417516, \"job\": \"Sound Effects Editor\", \"name\": \"Jeff Sawyer\"}, {\"credit_id\": \"54c274f1c3a36879290040da\", \"department\": \"Sound\", \"gender\": 0, \"id\": 1417517, \"job\": \"Sound Re-Recording Mixer\", \"name\": \"Carlos Solis\"}, {\"credit_id\": \"54c37193c3a368792c004fed\", \"department\": \"Crew\", \"gender\": 0, \"id\": 1417820, \"job\": \"Visual Effects Editor\", \"name\": \"Nick Dacey\"}, {\"credit_id\": \"54c372959251416eae00e22d\", \"department\": \"Visual Effects\", \"gender\": 0, \"id\": 1417821, \"job\": \"Visual Effects Producer\", \"name\": \"Claudia Dehmel\"}, {\"credit_id\": \"54c372e39251416e6000ed54\", \"department\": \"Crew\", \"gender\": 0, \"id\": 1417822, \"job\": \"Visual Effects Editor\", \"name\": \"Reuben Lloyd-Pack\"}, {\"credit_id\": \"54c3731892514124c8005254\", \"department\": \"Crew\", \"gender\": 0, \"id\": 1417823, \"job\": \"Visual Effects Editor\", \"name\": \"Steve Miller\"}, {\"credit_id\": \"54c3738f9251416e6000ed5f\", \"department\": \"Crew\", \"gender\": 0, \"id\": 1417824, \"job\": \"Visual Effects Editor\", \"name\": \"Christopher Payne\"}, {\"credit_id\": \"54c374b392514124890056d9\", \"department\": \"Crew\", \"gender\": 0, \"id\": 1417825, \"job\": \"CG Supervisor\", \"name\": \"Julian Foddy\"}, {\"credit_id\": \"54c374cc9251416e6000ed85\", \"department\": \"Visual Effects\", \"gender\": 0, \"id\": 1417826, \"job\": \"Visual Effects Supervisor\", \"name\": \"Paul J. Franklin\"}, {\"credit_id\": \"54c374eec3a368789b005901\", \"department\": \"Crew\", \"gender\": 0, \"id\": 1417827, \"job\": \"CG Supervisor\", \"name\": \"Nicola Hoyle\"}, {\"credit_id\": \"54c37524c3a3687929005b32\", \"department\": \"Visual Effects\", \"gender\": 0, \"id\": 1417828, \"job\": \"Visual Effects Supervisor\", \"name\": \"Andrew Lockley\"}, {\"credit_id\": \"54c3757ac3a36833380010d3\", \"department\": \"Crew\", \"gender\": 0, \"id\": 1417829, \"job\": \"Sequence Supervisor\", \"name\": \"Alison Wortman\"}, {\"credit_id\": \"54c375b49251416e6000ed9d\", \"department\": \"Crew\", \"gender\": 0, \"id\": 1417830, \"job\": \"Sequence Supervisor\", \"name\": \"Maxx Wai In Leong\"}, {\"credit_id\": \"54c3766ac3a36814210119e7\", \"department\": \"Crew\", \"gender\": 0, \"id\": 1417831, \"job\": \"Stunt Coordinator\", \"name\": \"Sy Hollands\"}, {\"credit_id\": \"54c377e49251416e6000edfc\", \"department\": \"Lighting\", \"gender\": 0, \"id\": 1417832, \"job\": \"Gaffer\", \"name\": \"Ryan Rodriguez\"}, {\"credit_id\": \"54c3783c92514124c80052d6\", \"department\": \"Lighting\", \"gender\": 0, \"id\": 1417833, \"job\": \"Gaffer\", \"name\": \"Reuben Garrett\"}, {\"credit_id\": \"54c378719251416eae00e2db\", \"department\": \"Camera\", \"gender\": 0, \"id\": 1417834, \"job\": \"Camera Technician\", \"name\": \"Dane Bjerno\"}, {\"credit_id\": \"54c378a49251412432005815\", \"department\": \"Lighting\", \"gender\": 0, \"id\": 1417835, \"job\": \"Rigging Gaffer\", \"name\": \"Ian Franklin\"}, {\"credit_id\": \"54c379219251412446005555\", \"department\": \"Visual Effects\", \"gender\": 0, \"id\": 1417836, \"job\": \"Animation\", \"name\": \"Andrew McEvoy\"}, {\"credit_id\": \"54c3798b92514124ed005678\", \"department\": \"Costume & Make-Up\", \"gender\": 0, \"id\": 1417837, \"job\": \"Costume Supervisor\", \"name\": \"Brendan Handscombe\"}, {\"credit_id\": \"54c37ac9c3a36878fb00501a\", \"department\": \"Costume & Make-Up\", \"gender\": 0, \"id\": 1417838, \"job\": \"Set Costumer\", \"name\": \"Lindsay Kouri\"}, {\"credit_id\": \"54c37ba5c3a3683338001180\", \"department\": \"Costume & Make-Up\", \"gender\": 0, \"id\": 1417839, \"job\": \"Set Costumer\", \"name\": \"David Butler\"}, {\"credit_id\": \"54c37c01c3a3687929005c04\", \"department\": \"Editing\", \"gender\": 0, \"id\": 1417840, \"job\": \"First Assistant Editor\", \"name\": \"Eric A. Lewy\"}, {\"credit_id\": \"54c37c29925141243200586d\", \"department\": \"Sound\", \"gender\": 0, \"id\": 1417841, \"job\": \"Music Editor\", \"name\": \"Ryan Rubin\"}, {\"credit_id\": \"54c37c42c3a36878d0005a31\", \"department\": \"Crew\", \"gender\": 0, \"id\": 1417842, \"job\": \"Transportation Coordinator\", \"name\": \"Gary Birmingham\"}, {\"credit_id\": \"54c37c7592514124ed0056af\", \"department\": \"Crew\", \"gender\": 0, \"id\": 1417843, \"job\": \"Picture Car Coordinator\", \"name\": \"Tyler W. Gaisford\"}, {\"credit_id\": \"54c37d6dc3a3687c4000fd1b\", \"department\": \"Production\", \"gender\": 0, \"id\": 1417844, \"job\": \"Location Manager\", \"name\": \"Mark Somner\"}, {\"credit_id\": \"54c37d9fc3a3687c4000fd20\", \"department\": \"Production\", \"gender\": 0, \"id\": 1417845, \"job\": \"Location Manager\", \"name\": \"Joaquin Diego Prange\"}, {\"credit_id\": \"54c37dbb9251416e6000ee57\", \"department\": \"Production\", \"gender\": 0, \"id\": 1417846, \"job\": \"Location Manager\", \"name\": \"Vans Pradeep Singh Rathore\"}, {\"credit_id\": \"54c37de6c3a36878d0005a54\", \"department\": \"Production\", \"gender\": 0, \"id\": 1417847, \"job\": \"Location Manager\", \"name\": \"James A. Mahathey\"}, {\"credit_id\": \"54c37e2cc3a36833380011b6\", \"department\": \"Production\", \"gender\": 0, \"id\": 1417848, \"job\": \"Location Manager\", \"name\": \"Jonathan Hook\"}, {\"credit_id\": \"56c266579251414a89000a2a\", \"department\": \"Costume & Make-Up\", \"gender\": 0, \"id\": 1427499, \"job\": \"Hairstylist\", \"name\": \"Stephanie Hovette\"}, {\"credit_id\": \"569fd0f6c3a36858c300a313\", \"department\": \"Crew\", \"gender\": 0, \"id\": 1434599, \"job\": \"Stunts\", \"name\": \"Brian Smyj\"}, {\"credit_id\": \"56d4e8b3c3a3681e44017a1d\", \"department\": \"Editing\", \"gender\": 0, \"id\": 1440853, \"job\": \"Assistant Editor\", \"name\": \"Donald Likovich\"}, {\"credit_id\": \"56817ef292514132db00f181\", \"department\": \"Crew\", \"gender\": 0, \"id\": 1455503, \"job\": \"Stunts\", \"name\": \"Ian Mclaughlin\"}, {\"credit_id\": \"56d872209251414291007577\", \"department\": \"Production\", \"gender\": 0, \"id\": 1463954, \"job\": \"Casting\", \"name\": \"Dixie Webster\"}, {\"credit_id\": \"568180369251414f6300a677\", \"department\": \"Crew\", \"gender\": 0, \"id\": 1468581, \"job\": \"Stunts\", \"name\": \"Victor Paguia\"}, {\"credit_id\": \"5682ca7392514169d0000aae\", \"department\": \"Costume & Make-Up\", \"gender\": 0, \"id\": 1468589, \"job\": \"Assistant Costume Designer\", \"name\": \"Wade Sullivan\"}, {\"credit_id\": \"56744cfb92514179dd00006d\", \"department\": \"Crew\", \"gender\": 0, \"id\": 1483827, \"job\": \"Stunts\", \"name\": \"Sid Karne\"}, {\"credit_id\": \"5621354392514171d000883b\", \"department\": \"Directing\", \"gender\": 0, \"id\": 1483827, \"job\": \"Assistant Director\", \"name\": \"Sid Karne\"}, {\"credit_id\": \"5681e419c3a36828f5007e50\", \"department\": \"Camera\", \"gender\": 0, \"id\": 1509394, \"job\": \"Grip\", \"name\": \"Michael J. Prate\"}, {\"credit_id\": \"5681e47a92514113340099ff\", \"department\": \"Camera\", \"gender\": 0, \"id\": 1509396, \"job\": \"Grip\", \"name\": \"Tom Prate\"}, {\"credit_id\": \"567d7b08c3a3684bd00070c2\", \"department\": \"Costume & Make-Up\", \"gender\": 0, \"id\": 1516458, \"job\": \"Hairstylist\", \"name\": \"R. Cory McCutcheon\"}, {\"credit_id\": \"56ba969e92514169b3000721\", \"department\": \"Editing\", \"gender\": 0, \"id\": 1525908, \"job\": \"Assistant Editor\", \"name\": \"Anne O\\'Brien\"}, {\"credit_id\": \"578fbfa19251411d5700117b\", \"department\": \"Crew\", \"gender\": 0, \"id\": 1531529, \"job\": \"Stunts\", \"name\": \"Rex Reddick\"}, {\"credit_id\": \"57d6ea2fc3a368023a00044e\", \"department\": \"Camera\", \"gender\": 0, \"id\": 1532610, \"job\": \"First Assistant Camera\", \"name\": \"Bob Hall\"}, {\"credit_id\": \"57bf2c29c3a3685c5d003e00\", \"department\": \"Lighting\", \"gender\": 0, \"id\": 1532612, \"job\": \"Rigging Grip\", \"name\": \"Blake Pike\"}, {\"credit_id\": \"566f8003c3a3680e7300cb03\", \"department\": \"Camera\", \"gender\": 0, \"id\": 1532613, \"job\": \"First Assistant Camera\", \"name\": \"Philip Shanahan\"}, {\"credit_id\": \"56452aa6c3a36870ec006931\", \"department\": \"Crew\", \"gender\": 2, \"id\": 1535095, \"job\": \"Stunts\", \"name\": \"Dan Brown\"}, {\"credit_id\": \"56452cb89251410a4c006cdf\", \"department\": \"Camera\", \"gender\": 0, \"id\": 1535096, \"job\": \"Grip\", \"name\": \"Adam Camacho\"}, {\"credit_id\": \"56452e7ac3a36870ef006f32\", \"department\": \"Camera\", \"gender\": 0, \"id\": 1535102, \"job\": \"Grip\", \"name\": \"Shaun Sangkarat\"}, {\"credit_id\": \"56817c9ec3a3682abc00a14b\", \"department\": \"Crew\", \"gender\": 1, \"id\": 1544394, \"job\": \"Stunts\", \"name\": \"Aja Frary\"}, {\"credit_id\": \"56817c4b9251417def011851\", \"department\": \"Crew\", \"gender\": 2, \"id\": 1544395, \"job\": \"Stunts\", \"name\": \"Mark Fichera\"}, {\"credit_id\": \"566875bec3a36836970036e9\", \"department\": \"Crew\", \"gender\": 0, \"id\": 1546907, \"job\": \"Driver\", \"name\": \"Patrick Hogan\"}, {\"credit_id\": \"566dbc4a92514169e200c3cd\", \"department\": \"Costume & Make-Up\", \"gender\": 0, \"id\": 1548530, \"job\": \"Hairstylist\", \"name\": \"Robert Wilson\"}, {\"credit_id\": \"566f03c1925141500100a095\", \"department\": \"Crew\", \"gender\": 0, \"id\": 1549015, \"job\": \"Propmaker\", \"name\": \"Ray Maxwell\"}, {\"credit_id\": \"566f0f16c3a368535a011220\", \"department\": \"Crew\", \"gender\": 0, \"id\": 1549026, \"job\": \"Stunts Coordinator\", \"name\": \"Scotty Richards\"}, {\"credit_id\": \"5671a5adc3a368535a01870d\", \"department\": \"Crew\", \"gender\": 2, \"id\": 1549741, \"job\": \"Stunts\", \"name\": \"Marc Scizak\"}, {\"credit_id\": \"5672f427c3a3680712003145\", \"department\": \"Lighting\", \"gender\": 0, \"id\": 1550248, \"job\": \"Rigging Grip\", \"name\": \"Joe Guzman\"}, {\"credit_id\": \"5673487792514163b9003756\", \"department\": \"Crew\", \"gender\": 0, \"id\": 1550400, \"job\": \"Set Production Assistant\", \"name\": \"Damiano Fusca\"}, {\"credit_id\": \"56817a49c3a3682abc00a0a5\", \"department\": \"Crew\", \"gender\": 2, \"id\": 1550725, \"job\": \"Stunts\", \"name\": \"Chris Cenatiempo\"}, {\"credit_id\": \"567607cd92514179e7003fcb\", \"department\": \"Camera\", \"gender\": 0, \"id\": 1551373, \"job\": \"Camera Intern\", \"name\": \"Joey J. Cook III\"}, {\"credit_id\": \"568f076fc3a368324c0000ac\", \"department\": \"Editing\", \"gender\": 0, \"id\": 1552549, \"job\": \"Color Timer\", \"name\": \"David Orr\"}, {\"credit_id\": \"5680378d9251412e5200bc04\", \"department\": \"Crew\", \"gender\": 0, \"id\": 1554393, \"job\": \"Stunts\", \"name\": \"Scott Burik\"}, {\"credit_id\": \"5681798292514131df00eabe\", \"department\": \"Crew\", \"gender\": 0, \"id\": 1554915, \"job\": \"Stunts\", \"name\": \"Mike Burke\"}, {\"credit_id\": \"56817cecc3a3682abc00a155\", \"department\": \"Crew\", \"gender\": 0, \"id\": 1554921, \"job\": \"Stunts\", \"name\": \"Shane Geraghty\"}, {\"credit_id\": \"568180ea9251417def0118f7\", \"department\": \"Lighting\", \"gender\": 0, \"id\": 1554924, \"job\": \"Rigging Grip\", \"name\": \"Balint Pinczehelyi\"}, {\"credit_id\": \"56818203c3a36860e9010d12\", \"department\": \"Crew\", \"gender\": 0, \"id\": 1554925, \"job\": \"Stunts\", \"name\": \"Kevin Rogers\"}, {\"credit_id\": \"568182e7c3a3684be3011a16\", \"department\": \"Crew\", \"gender\": 0, \"id\": 1554926, \"job\": \"Stunts\", \"name\": \"Shawnna Thibodeau\"}, {\"credit_id\": \"568183fac3a36860e9010d53\", \"department\": \"Crew\", \"gender\": 0, \"id\": 1554931, \"job\": \"Stunts\", \"name\": \"Caroline Vexler\"}, {\"credit_id\": \"5681e190c3a3684bcc013316\", \"department\": \"Lighting\", \"gender\": 2, \"id\": 1555027, \"job\": \"Rigging Grip\", \"name\": \"Kevin Flynn\"}, {\"credit_id\": \"56b78254c3a36806ec00e6f5\", \"department\": \"Production\", \"gender\": 0, \"id\": 1564997, \"job\": \"Executive In Charge Of Production\", \"name\": \"Mark Scoon\"}, {\"credit_id\": \"56b781afc3a36806ec00e6e0\", \"department\": \"Directing\", \"gender\": 0, \"id\": 1566280, \"job\": \"Assistant Director\", \"name\": \"Nilo Otero\"}, {\"credit_id\": \"5766ccd8c3a3687f5300121a\", \"department\": \"Crew\", \"gender\": 0, \"id\": 1571601, \"job\": \"Post Production Supervisor\", \"name\": \"David E. Hall\"}, {\"credit_id\": \"573e668892514108d9000856\", \"department\": \"Crew\", \"gender\": 2, \"id\": 1622657, \"job\": \"Stunts\", \"name\": \"Mark Aaron Wagner\"}, {\"credit_id\": \"579bf757c3a3681678003103\", \"department\": \"Crew\", \"gender\": 0, \"id\": 1634437, \"job\": \"Stunts\", \"name\": \"Ed McDermott II\"}, {\"credit_id\": \"5766cc219251416995000666\", \"department\": \"Costume & Make-Up\", \"gender\": 0, \"id\": 1638257, \"job\": \"Prosthetic Supervisor\", \"name\": \"Conor O\\'Sullivan\"}, {\"credit_id\": \"5777f94a9251415f060011a6\", \"department\": \"Sound\", \"gender\": 0, \"id\": 1644412, \"job\": \"Sound Mixer\", \"name\": \"Nakul Kamte\"}, {\"credit_id\": \"577852f992514136e100208d\", \"department\": \"Production\", \"gender\": 0, \"id\": 1644543, \"job\": \"Line Producer\", \"name\": \"Dileep Singh Rathore\"}]'"
      ]
     },
     "execution_count": 20,
     "metadata": {},
     "output_type": "execute_result"
    }
   ],
   "source": [
    "movies['crew'][3]"
   ]
  },
  {
   "cell_type": "code",
   "execution_count": 21,
   "id": "8964590f-c699-4c12-ba6b-100d594e75b9",
   "metadata": {},
   "outputs": [],
   "source": [
    "def fetch_director(obj):\n",
    "    L = []\n",
    "    for i in ast.literal_eval(obj):\n",
    "        if i['job']=='Director':\n",
    "           L.append(i['name'])\n",
    "           break\n",
    "    return L"
   ]
  },
  {
   "cell_type": "code",
   "execution_count": 22,
   "id": "2f276fad-bdeb-4bfa-a02d-33fc7a5c3c42",
   "metadata": {},
   "outputs": [],
   "source": [
    "movies['crew']=movies['crew'].apply(fetch_director)"
   ]
  },
  {
   "cell_type": "code",
   "execution_count": 23,
   "id": "952ca1fd-bd5b-4e3d-addc-5135a8184047",
   "metadata": {},
   "outputs": [
    {
     "data": {
      "text/plain": [
       "0        [James Cameron]\n",
       "1       [Gore Verbinski]\n",
       "2           [Sam Mendes]\n",
       "3    [Christopher Nolan]\n",
       "4       [Andrew Stanton]\n",
       "Name: crew, dtype: object"
      ]
     },
     "execution_count": 23,
     "metadata": {},
     "output_type": "execute_result"
    }
   ],
   "source": [
    "movies['crew'].head()"
   ]
  },
  {
   "cell_type": "code",
   "execution_count": 24,
   "id": "5d693ca1-eb23-4775-bb39-65ff9b82126e",
   "metadata": {},
   "outputs": [
    {
     "data": {
      "text/html": [
       "<div>\n",
       "<style scoped>\n",
       "    .dataframe tbody tr th:only-of-type {\n",
       "        vertical-align: middle;\n",
       "    }\n",
       "\n",
       "    .dataframe tbody tr th {\n",
       "        vertical-align: top;\n",
       "    }\n",
       "\n",
       "    .dataframe thead th {\n",
       "        text-align: right;\n",
       "    }\n",
       "</style>\n",
       "<table border=\"1\" class=\"dataframe\">\n",
       "  <thead>\n",
       "    <tr style=\"text-align: right;\">\n",
       "      <th></th>\n",
       "      <th>movie_id</th>\n",
       "      <th>title</th>\n",
       "      <th>overview</th>\n",
       "      <th>genres</th>\n",
       "      <th>keywords</th>\n",
       "      <th>cast</th>\n",
       "      <th>crew</th>\n",
       "    </tr>\n",
       "  </thead>\n",
       "  <tbody>\n",
       "    <tr>\n",
       "      <th>0</th>\n",
       "      <td>19995</td>\n",
       "      <td>Avatar</td>\n",
       "      <td>In the 22nd century, a paraplegic Marine is di...</td>\n",
       "      <td>[Action, Adventure, Fantasy, Science Fiction]</td>\n",
       "      <td>[culture clash, future, space war, space colon...</td>\n",
       "      <td>[Sam Worthington, Zoe Saldana, Sigourney Weaver]</td>\n",
       "      <td>[James Cameron]</td>\n",
       "    </tr>\n",
       "    <tr>\n",
       "      <th>1</th>\n",
       "      <td>285</td>\n",
       "      <td>Pirates of the Caribbean: At World's End</td>\n",
       "      <td>Captain Barbossa, long believed to be dead, ha...</td>\n",
       "      <td>[Adventure, Fantasy, Action]</td>\n",
       "      <td>[ocean, drug abuse, exotic island, east india ...</td>\n",
       "      <td>[Johnny Depp, Orlando Bloom, Keira Knightley]</td>\n",
       "      <td>[Gore Verbinski]</td>\n",
       "    </tr>\n",
       "    <tr>\n",
       "      <th>2</th>\n",
       "      <td>206647</td>\n",
       "      <td>Spectre</td>\n",
       "      <td>A cryptic message from Bond’s past sends him o...</td>\n",
       "      <td>[Action, Adventure, Crime]</td>\n",
       "      <td>[spy, based on novel, secret agent, sequel, mi...</td>\n",
       "      <td>[Daniel Craig, Christoph Waltz, Léa Seydoux]</td>\n",
       "      <td>[Sam Mendes]</td>\n",
       "    </tr>\n",
       "    <tr>\n",
       "      <th>3</th>\n",
       "      <td>49026</td>\n",
       "      <td>The Dark Knight Rises</td>\n",
       "      <td>Following the death of District Attorney Harve...</td>\n",
       "      <td>[Action, Crime, Drama, Thriller]</td>\n",
       "      <td>[dc comics, crime fighter, terrorist, secret i...</td>\n",
       "      <td>[Christian Bale, Michael Caine, Gary Oldman]</td>\n",
       "      <td>[Christopher Nolan]</td>\n",
       "    </tr>\n",
       "    <tr>\n",
       "      <th>4</th>\n",
       "      <td>49529</td>\n",
       "      <td>John Carter</td>\n",
       "      <td>John Carter is a war-weary, former military ca...</td>\n",
       "      <td>[Action, Adventure, Science Fiction]</td>\n",
       "      <td>[based on novel, mars, medallion, space travel...</td>\n",
       "      <td>[Taylor Kitsch, Lynn Collins, Samantha Morton]</td>\n",
       "      <td>[Andrew Stanton]</td>\n",
       "    </tr>\n",
       "  </tbody>\n",
       "</table>\n",
       "</div>"
      ],
      "text/plain": [
       "   movie_id                                     title  \\\n",
       "0     19995                                    Avatar   \n",
       "1       285  Pirates of the Caribbean: At World's End   \n",
       "2    206647                                   Spectre   \n",
       "3     49026                     The Dark Knight Rises   \n",
       "4     49529                               John Carter   \n",
       "\n",
       "                                            overview  \\\n",
       "0  In the 22nd century, a paraplegic Marine is di...   \n",
       "1  Captain Barbossa, long believed to be dead, ha...   \n",
       "2  A cryptic message from Bond’s past sends him o...   \n",
       "3  Following the death of District Attorney Harve...   \n",
       "4  John Carter is a war-weary, former military ca...   \n",
       "\n",
       "                                          genres  \\\n",
       "0  [Action, Adventure, Fantasy, Science Fiction]   \n",
       "1                   [Adventure, Fantasy, Action]   \n",
       "2                     [Action, Adventure, Crime]   \n",
       "3               [Action, Crime, Drama, Thriller]   \n",
       "4           [Action, Adventure, Science Fiction]   \n",
       "\n",
       "                                            keywords  \\\n",
       "0  [culture clash, future, space war, space colon...   \n",
       "1  [ocean, drug abuse, exotic island, east india ...   \n",
       "2  [spy, based on novel, secret agent, sequel, mi...   \n",
       "3  [dc comics, crime fighter, terrorist, secret i...   \n",
       "4  [based on novel, mars, medallion, space travel...   \n",
       "\n",
       "                                               cast                 crew  \n",
       "0  [Sam Worthington, Zoe Saldana, Sigourney Weaver]      [James Cameron]  \n",
       "1     [Johnny Depp, Orlando Bloom, Keira Knightley]     [Gore Verbinski]  \n",
       "2      [Daniel Craig, Christoph Waltz, Léa Seydoux]         [Sam Mendes]  \n",
       "3      [Christian Bale, Michael Caine, Gary Oldman]  [Christopher Nolan]  \n",
       "4    [Taylor Kitsch, Lynn Collins, Samantha Morton]     [Andrew Stanton]  "
      ]
     },
     "execution_count": 24,
     "metadata": {},
     "output_type": "execute_result"
    }
   ],
   "source": [
    "movies.head()"
   ]
  },
  {
   "cell_type": "code",
   "execution_count": 25,
   "id": "31b8f531-e547-4f8d-b9d4-e21dfcc26e64",
   "metadata": {},
   "outputs": [
    {
     "data": {
      "text/plain": [
       "'In the 22nd century, a paraplegic Marine is dispatched to the moon Pandora on a unique mission, but becomes torn between following orders and protecting an alien civilization.'"
      ]
     },
     "execution_count": 25,
     "metadata": {},
     "output_type": "execute_result"
    }
   ],
   "source": [
    "movies.overview[0]"
   ]
  },
  {
   "cell_type": "code",
   "execution_count": 26,
   "id": "a5beafbe-9bdb-4636-a449-687a48901048",
   "metadata": {},
   "outputs": [],
   "source": [
    "movies['overview'] = movies['overview'].fillna('')\n",
    "movies['overview']= movies['overview'].apply(lambda x: x.split())\n"
   ]
  },
  {
   "cell_type": "code",
   "execution_count": 27,
   "id": "c662b2bc-101d-4ec4-8c42-2f18cffca5eb",
   "metadata": {},
   "outputs": [
    {
     "data": {
      "text/html": [
       "<div>\n",
       "<style scoped>\n",
       "    .dataframe tbody tr th:only-of-type {\n",
       "        vertical-align: middle;\n",
       "    }\n",
       "\n",
       "    .dataframe tbody tr th {\n",
       "        vertical-align: top;\n",
       "    }\n",
       "\n",
       "    .dataframe thead th {\n",
       "        text-align: right;\n",
       "    }\n",
       "</style>\n",
       "<table border=\"1\" class=\"dataframe\">\n",
       "  <thead>\n",
       "    <tr style=\"text-align: right;\">\n",
       "      <th></th>\n",
       "      <th>movie_id</th>\n",
       "      <th>title</th>\n",
       "      <th>overview</th>\n",
       "      <th>genres</th>\n",
       "      <th>keywords</th>\n",
       "      <th>cast</th>\n",
       "      <th>crew</th>\n",
       "    </tr>\n",
       "  </thead>\n",
       "  <tbody>\n",
       "    <tr>\n",
       "      <th>0</th>\n",
       "      <td>19995</td>\n",
       "      <td>Avatar</td>\n",
       "      <td>[In, the, 22nd, century,, a, paraplegic, Marin...</td>\n",
       "      <td>[Action, Adventure, Fantasy, Science Fiction]</td>\n",
       "      <td>[culture clash, future, space war, space colon...</td>\n",
       "      <td>[Sam Worthington, Zoe Saldana, Sigourney Weaver]</td>\n",
       "      <td>[James Cameron]</td>\n",
       "    </tr>\n",
       "    <tr>\n",
       "      <th>1</th>\n",
       "      <td>285</td>\n",
       "      <td>Pirates of the Caribbean: At World's End</td>\n",
       "      <td>[Captain, Barbossa,, long, believed, to, be, d...</td>\n",
       "      <td>[Adventure, Fantasy, Action]</td>\n",
       "      <td>[ocean, drug abuse, exotic island, east india ...</td>\n",
       "      <td>[Johnny Depp, Orlando Bloom, Keira Knightley]</td>\n",
       "      <td>[Gore Verbinski]</td>\n",
       "    </tr>\n",
       "    <tr>\n",
       "      <th>2</th>\n",
       "      <td>206647</td>\n",
       "      <td>Spectre</td>\n",
       "      <td>[A, cryptic, message, from, Bond’s, past, send...</td>\n",
       "      <td>[Action, Adventure, Crime]</td>\n",
       "      <td>[spy, based on novel, secret agent, sequel, mi...</td>\n",
       "      <td>[Daniel Craig, Christoph Waltz, Léa Seydoux]</td>\n",
       "      <td>[Sam Mendes]</td>\n",
       "    </tr>\n",
       "    <tr>\n",
       "      <th>3</th>\n",
       "      <td>49026</td>\n",
       "      <td>The Dark Knight Rises</td>\n",
       "      <td>[Following, the, death, of, District, Attorney...</td>\n",
       "      <td>[Action, Crime, Drama, Thriller]</td>\n",
       "      <td>[dc comics, crime fighter, terrorist, secret i...</td>\n",
       "      <td>[Christian Bale, Michael Caine, Gary Oldman]</td>\n",
       "      <td>[Christopher Nolan]</td>\n",
       "    </tr>\n",
       "    <tr>\n",
       "      <th>4</th>\n",
       "      <td>49529</td>\n",
       "      <td>John Carter</td>\n",
       "      <td>[John, Carter, is, a, war-weary,, former, mili...</td>\n",
       "      <td>[Action, Adventure, Science Fiction]</td>\n",
       "      <td>[based on novel, mars, medallion, space travel...</td>\n",
       "      <td>[Taylor Kitsch, Lynn Collins, Samantha Morton]</td>\n",
       "      <td>[Andrew Stanton]</td>\n",
       "    </tr>\n",
       "  </tbody>\n",
       "</table>\n",
       "</div>"
      ],
      "text/plain": [
       "   movie_id                                     title  \\\n",
       "0     19995                                    Avatar   \n",
       "1       285  Pirates of the Caribbean: At World's End   \n",
       "2    206647                                   Spectre   \n",
       "3     49026                     The Dark Knight Rises   \n",
       "4     49529                               John Carter   \n",
       "\n",
       "                                            overview  \\\n",
       "0  [In, the, 22nd, century,, a, paraplegic, Marin...   \n",
       "1  [Captain, Barbossa,, long, believed, to, be, d...   \n",
       "2  [A, cryptic, message, from, Bond’s, past, send...   \n",
       "3  [Following, the, death, of, District, Attorney...   \n",
       "4  [John, Carter, is, a, war-weary,, former, mili...   \n",
       "\n",
       "                                          genres  \\\n",
       "0  [Action, Adventure, Fantasy, Science Fiction]   \n",
       "1                   [Adventure, Fantasy, Action]   \n",
       "2                     [Action, Adventure, Crime]   \n",
       "3               [Action, Crime, Drama, Thriller]   \n",
       "4           [Action, Adventure, Science Fiction]   \n",
       "\n",
       "                                            keywords  \\\n",
       "0  [culture clash, future, space war, space colon...   \n",
       "1  [ocean, drug abuse, exotic island, east india ...   \n",
       "2  [spy, based on novel, secret agent, sequel, mi...   \n",
       "3  [dc comics, crime fighter, terrorist, secret i...   \n",
       "4  [based on novel, mars, medallion, space travel...   \n",
       "\n",
       "                                               cast                 crew  \n",
       "0  [Sam Worthington, Zoe Saldana, Sigourney Weaver]      [James Cameron]  \n",
       "1     [Johnny Depp, Orlando Bloom, Keira Knightley]     [Gore Verbinski]  \n",
       "2      [Daniel Craig, Christoph Waltz, Léa Seydoux]         [Sam Mendes]  \n",
       "3      [Christian Bale, Michael Caine, Gary Oldman]  [Christopher Nolan]  \n",
       "4    [Taylor Kitsch, Lynn Collins, Samantha Morton]     [Andrew Stanton]  "
      ]
     },
     "execution_count": 27,
     "metadata": {},
     "output_type": "execute_result"
    }
   ],
   "source": [
    "movies.head()"
   ]
  },
  {
   "cell_type": "code",
   "execution_count": 28,
   "id": "43fa5ad0-48bf-446e-9897-6496ffdf3afe",
   "metadata": {},
   "outputs": [],
   "source": [
    "movies.genres=movies.genres.apply(lambda x:[i.replace(\" \",\"\") for i in x])"
   ]
  },
  {
   "cell_type": "code",
   "execution_count": 29,
   "id": "b291db8f-5cfa-459b-803b-13c60926fe43",
   "metadata": {},
   "outputs": [],
   "source": [
    "movies.keywords=movies.keywords.apply(lambda x:[i.replace(\" \",\"\") for i in x])\n",
    "movies.cast=movies.cast.apply(lambda x:[i.replace(\" \",\"\") for i in x])\n",
    "movies.crew=movies.crew.apply(lambda x:[i.replace(\" \",\"\") for i in x])"
   ]
  },
  {
   "cell_type": "code",
   "execution_count": 30,
   "id": "abf39012-60d4-4b09-9128-835c2bfadebc",
   "metadata": {},
   "outputs": [
    {
     "data": {
      "text/html": [
       "<div>\n",
       "<style scoped>\n",
       "    .dataframe tbody tr th:only-of-type {\n",
       "        vertical-align: middle;\n",
       "    }\n",
       "\n",
       "    .dataframe tbody tr th {\n",
       "        vertical-align: top;\n",
       "    }\n",
       "\n",
       "    .dataframe thead th {\n",
       "        text-align: right;\n",
       "    }\n",
       "</style>\n",
       "<table border=\"1\" class=\"dataframe\">\n",
       "  <thead>\n",
       "    <tr style=\"text-align: right;\">\n",
       "      <th></th>\n",
       "      <th>movie_id</th>\n",
       "      <th>title</th>\n",
       "      <th>overview</th>\n",
       "      <th>genres</th>\n",
       "      <th>keywords</th>\n",
       "      <th>cast</th>\n",
       "      <th>crew</th>\n",
       "    </tr>\n",
       "  </thead>\n",
       "  <tbody>\n",
       "    <tr>\n",
       "      <th>0</th>\n",
       "      <td>19995</td>\n",
       "      <td>Avatar</td>\n",
       "      <td>[In, the, 22nd, century,, a, paraplegic, Marin...</td>\n",
       "      <td>[Action, Adventure, Fantasy, ScienceFiction]</td>\n",
       "      <td>[cultureclash, future, spacewar, spacecolony, ...</td>\n",
       "      <td>[SamWorthington, ZoeSaldana, SigourneyWeaver]</td>\n",
       "      <td>[JamesCameron]</td>\n",
       "    </tr>\n",
       "    <tr>\n",
       "      <th>1</th>\n",
       "      <td>285</td>\n",
       "      <td>Pirates of the Caribbean: At World's End</td>\n",
       "      <td>[Captain, Barbossa,, long, believed, to, be, d...</td>\n",
       "      <td>[Adventure, Fantasy, Action]</td>\n",
       "      <td>[ocean, drugabuse, exoticisland, eastindiatrad...</td>\n",
       "      <td>[JohnnyDepp, OrlandoBloom, KeiraKnightley]</td>\n",
       "      <td>[GoreVerbinski]</td>\n",
       "    </tr>\n",
       "    <tr>\n",
       "      <th>2</th>\n",
       "      <td>206647</td>\n",
       "      <td>Spectre</td>\n",
       "      <td>[A, cryptic, message, from, Bond’s, past, send...</td>\n",
       "      <td>[Action, Adventure, Crime]</td>\n",
       "      <td>[spy, basedonnovel, secretagent, sequel, mi6, ...</td>\n",
       "      <td>[DanielCraig, ChristophWaltz, LéaSeydoux]</td>\n",
       "      <td>[SamMendes]</td>\n",
       "    </tr>\n",
       "    <tr>\n",
       "      <th>3</th>\n",
       "      <td>49026</td>\n",
       "      <td>The Dark Knight Rises</td>\n",
       "      <td>[Following, the, death, of, District, Attorney...</td>\n",
       "      <td>[Action, Crime, Drama, Thriller]</td>\n",
       "      <td>[dccomics, crimefighter, terrorist, secretiden...</td>\n",
       "      <td>[ChristianBale, MichaelCaine, GaryOldman]</td>\n",
       "      <td>[ChristopherNolan]</td>\n",
       "    </tr>\n",
       "    <tr>\n",
       "      <th>4</th>\n",
       "      <td>49529</td>\n",
       "      <td>John Carter</td>\n",
       "      <td>[John, Carter, is, a, war-weary,, former, mili...</td>\n",
       "      <td>[Action, Adventure, ScienceFiction]</td>\n",
       "      <td>[basedonnovel, mars, medallion, spacetravel, p...</td>\n",
       "      <td>[TaylorKitsch, LynnCollins, SamanthaMorton]</td>\n",
       "      <td>[AndrewStanton]</td>\n",
       "    </tr>\n",
       "  </tbody>\n",
       "</table>\n",
       "</div>"
      ],
      "text/plain": [
       "   movie_id                                     title  \\\n",
       "0     19995                                    Avatar   \n",
       "1       285  Pirates of the Caribbean: At World's End   \n",
       "2    206647                                   Spectre   \n",
       "3     49026                     The Dark Knight Rises   \n",
       "4     49529                               John Carter   \n",
       "\n",
       "                                            overview  \\\n",
       "0  [In, the, 22nd, century,, a, paraplegic, Marin...   \n",
       "1  [Captain, Barbossa,, long, believed, to, be, d...   \n",
       "2  [A, cryptic, message, from, Bond’s, past, send...   \n",
       "3  [Following, the, death, of, District, Attorney...   \n",
       "4  [John, Carter, is, a, war-weary,, former, mili...   \n",
       "\n",
       "                                         genres  \\\n",
       "0  [Action, Adventure, Fantasy, ScienceFiction]   \n",
       "1                  [Adventure, Fantasy, Action]   \n",
       "2                    [Action, Adventure, Crime]   \n",
       "3              [Action, Crime, Drama, Thriller]   \n",
       "4           [Action, Adventure, ScienceFiction]   \n",
       "\n",
       "                                            keywords  \\\n",
       "0  [cultureclash, future, spacewar, spacecolony, ...   \n",
       "1  [ocean, drugabuse, exoticisland, eastindiatrad...   \n",
       "2  [spy, basedonnovel, secretagent, sequel, mi6, ...   \n",
       "3  [dccomics, crimefighter, terrorist, secretiden...   \n",
       "4  [basedonnovel, mars, medallion, spacetravel, p...   \n",
       "\n",
       "                                            cast                crew  \n",
       "0  [SamWorthington, ZoeSaldana, SigourneyWeaver]      [JamesCameron]  \n",
       "1     [JohnnyDepp, OrlandoBloom, KeiraKnightley]     [GoreVerbinski]  \n",
       "2      [DanielCraig, ChristophWaltz, LéaSeydoux]         [SamMendes]  \n",
       "3      [ChristianBale, MichaelCaine, GaryOldman]  [ChristopherNolan]  \n",
       "4    [TaylorKitsch, LynnCollins, SamanthaMorton]     [AndrewStanton]  "
      ]
     },
     "execution_count": 30,
     "metadata": {},
     "output_type": "execute_result"
    }
   ],
   "source": [
    "movies.head()"
   ]
  },
  {
   "cell_type": "code",
   "execution_count": 31,
   "id": "3650eb0b-2624-4e5a-a0a4-b8f86b23a0b0",
   "metadata": {},
   "outputs": [],
   "source": [
    "movies['tags']=movies.overview + movies.genres + movies.keywords + movies.cast + movies.crew"
   ]
  },
  {
   "cell_type": "code",
   "execution_count": 32,
   "id": "e3e54ab9-c6e4-4b6b-ba25-529b878394d4",
   "metadata": {
    "scrolled": true
   },
   "outputs": [
    {
     "data": {
      "text/html": [
       "<div>\n",
       "<style scoped>\n",
       "    .dataframe tbody tr th:only-of-type {\n",
       "        vertical-align: middle;\n",
       "    }\n",
       "\n",
       "    .dataframe tbody tr th {\n",
       "        vertical-align: top;\n",
       "    }\n",
       "\n",
       "    .dataframe thead th {\n",
       "        text-align: right;\n",
       "    }\n",
       "</style>\n",
       "<table border=\"1\" class=\"dataframe\">\n",
       "  <thead>\n",
       "    <tr style=\"text-align: right;\">\n",
       "      <th></th>\n",
       "      <th>movie_id</th>\n",
       "      <th>title</th>\n",
       "      <th>overview</th>\n",
       "      <th>genres</th>\n",
       "      <th>keywords</th>\n",
       "      <th>cast</th>\n",
       "      <th>crew</th>\n",
       "      <th>tags</th>\n",
       "    </tr>\n",
       "  </thead>\n",
       "  <tbody>\n",
       "    <tr>\n",
       "      <th>0</th>\n",
       "      <td>19995</td>\n",
       "      <td>Avatar</td>\n",
       "      <td>[In, the, 22nd, century,, a, paraplegic, Marin...</td>\n",
       "      <td>[Action, Adventure, Fantasy, ScienceFiction]</td>\n",
       "      <td>[cultureclash, future, spacewar, spacecolony, ...</td>\n",
       "      <td>[SamWorthington, ZoeSaldana, SigourneyWeaver]</td>\n",
       "      <td>[JamesCameron]</td>\n",
       "      <td>[In, the, 22nd, century,, a, paraplegic, Marin...</td>\n",
       "    </tr>\n",
       "    <tr>\n",
       "      <th>1</th>\n",
       "      <td>285</td>\n",
       "      <td>Pirates of the Caribbean: At World's End</td>\n",
       "      <td>[Captain, Barbossa,, long, believed, to, be, d...</td>\n",
       "      <td>[Adventure, Fantasy, Action]</td>\n",
       "      <td>[ocean, drugabuse, exoticisland, eastindiatrad...</td>\n",
       "      <td>[JohnnyDepp, OrlandoBloom, KeiraKnightley]</td>\n",
       "      <td>[GoreVerbinski]</td>\n",
       "      <td>[Captain, Barbossa,, long, believed, to, be, d...</td>\n",
       "    </tr>\n",
       "    <tr>\n",
       "      <th>2</th>\n",
       "      <td>206647</td>\n",
       "      <td>Spectre</td>\n",
       "      <td>[A, cryptic, message, from, Bond’s, past, send...</td>\n",
       "      <td>[Action, Adventure, Crime]</td>\n",
       "      <td>[spy, basedonnovel, secretagent, sequel, mi6, ...</td>\n",
       "      <td>[DanielCraig, ChristophWaltz, LéaSeydoux]</td>\n",
       "      <td>[SamMendes]</td>\n",
       "      <td>[A, cryptic, message, from, Bond’s, past, send...</td>\n",
       "    </tr>\n",
       "    <tr>\n",
       "      <th>3</th>\n",
       "      <td>49026</td>\n",
       "      <td>The Dark Knight Rises</td>\n",
       "      <td>[Following, the, death, of, District, Attorney...</td>\n",
       "      <td>[Action, Crime, Drama, Thriller]</td>\n",
       "      <td>[dccomics, crimefighter, terrorist, secretiden...</td>\n",
       "      <td>[ChristianBale, MichaelCaine, GaryOldman]</td>\n",
       "      <td>[ChristopherNolan]</td>\n",
       "      <td>[Following, the, death, of, District, Attorney...</td>\n",
       "    </tr>\n",
       "    <tr>\n",
       "      <th>4</th>\n",
       "      <td>49529</td>\n",
       "      <td>John Carter</td>\n",
       "      <td>[John, Carter, is, a, war-weary,, former, mili...</td>\n",
       "      <td>[Action, Adventure, ScienceFiction]</td>\n",
       "      <td>[basedonnovel, mars, medallion, spacetravel, p...</td>\n",
       "      <td>[TaylorKitsch, LynnCollins, SamanthaMorton]</td>\n",
       "      <td>[AndrewStanton]</td>\n",
       "      <td>[John, Carter, is, a, war-weary,, former, mili...</td>\n",
       "    </tr>\n",
       "  </tbody>\n",
       "</table>\n",
       "</div>"
      ],
      "text/plain": [
       "   movie_id                                     title  \\\n",
       "0     19995                                    Avatar   \n",
       "1       285  Pirates of the Caribbean: At World's End   \n",
       "2    206647                                   Spectre   \n",
       "3     49026                     The Dark Knight Rises   \n",
       "4     49529                               John Carter   \n",
       "\n",
       "                                            overview  \\\n",
       "0  [In, the, 22nd, century,, a, paraplegic, Marin...   \n",
       "1  [Captain, Barbossa,, long, believed, to, be, d...   \n",
       "2  [A, cryptic, message, from, Bond’s, past, send...   \n",
       "3  [Following, the, death, of, District, Attorney...   \n",
       "4  [John, Carter, is, a, war-weary,, former, mili...   \n",
       "\n",
       "                                         genres  \\\n",
       "0  [Action, Adventure, Fantasy, ScienceFiction]   \n",
       "1                  [Adventure, Fantasy, Action]   \n",
       "2                    [Action, Adventure, Crime]   \n",
       "3              [Action, Crime, Drama, Thriller]   \n",
       "4           [Action, Adventure, ScienceFiction]   \n",
       "\n",
       "                                            keywords  \\\n",
       "0  [cultureclash, future, spacewar, spacecolony, ...   \n",
       "1  [ocean, drugabuse, exoticisland, eastindiatrad...   \n",
       "2  [spy, basedonnovel, secretagent, sequel, mi6, ...   \n",
       "3  [dccomics, crimefighter, terrorist, secretiden...   \n",
       "4  [basedonnovel, mars, medallion, spacetravel, p...   \n",
       "\n",
       "                                            cast                crew  \\\n",
       "0  [SamWorthington, ZoeSaldana, SigourneyWeaver]      [JamesCameron]   \n",
       "1     [JohnnyDepp, OrlandoBloom, KeiraKnightley]     [GoreVerbinski]   \n",
       "2      [DanielCraig, ChristophWaltz, LéaSeydoux]         [SamMendes]   \n",
       "3      [ChristianBale, MichaelCaine, GaryOldman]  [ChristopherNolan]   \n",
       "4    [TaylorKitsch, LynnCollins, SamanthaMorton]     [AndrewStanton]   \n",
       "\n",
       "                                                tags  \n",
       "0  [In, the, 22nd, century,, a, paraplegic, Marin...  \n",
       "1  [Captain, Barbossa,, long, believed, to, be, d...  \n",
       "2  [A, cryptic, message, from, Bond’s, past, send...  \n",
       "3  [Following, the, death, of, District, Attorney...  \n",
       "4  [John, Carter, is, a, war-weary,, former, mili...  "
      ]
     },
     "execution_count": 32,
     "metadata": {},
     "output_type": "execute_result"
    }
   ],
   "source": [
    "movies.head()"
   ]
  },
  {
   "cell_type": "code",
   "execution_count": 33,
   "id": "9432b206-a35b-40e9-81e5-c731ddb4bba4",
   "metadata": {},
   "outputs": [],
   "source": [
    "new_df= movies[['movie_id','title','tags']]"
   ]
  },
  {
   "cell_type": "code",
   "execution_count": 34,
   "id": "7ff016f7-8e79-4a0e-b92b-36d6efb93acf",
   "metadata": {},
   "outputs": [
    {
     "data": {
      "text/html": [
       "<div>\n",
       "<style scoped>\n",
       "    .dataframe tbody tr th:only-of-type {\n",
       "        vertical-align: middle;\n",
       "    }\n",
       "\n",
       "    .dataframe tbody tr th {\n",
       "        vertical-align: top;\n",
       "    }\n",
       "\n",
       "    .dataframe thead th {\n",
       "        text-align: right;\n",
       "    }\n",
       "</style>\n",
       "<table border=\"1\" class=\"dataframe\">\n",
       "  <thead>\n",
       "    <tr style=\"text-align: right;\">\n",
       "      <th></th>\n",
       "      <th>movie_id</th>\n",
       "      <th>title</th>\n",
       "      <th>tags</th>\n",
       "    </tr>\n",
       "  </thead>\n",
       "  <tbody>\n",
       "    <tr>\n",
       "      <th>0</th>\n",
       "      <td>19995</td>\n",
       "      <td>Avatar</td>\n",
       "      <td>[In, the, 22nd, century,, a, paraplegic, Marin...</td>\n",
       "    </tr>\n",
       "    <tr>\n",
       "      <th>1</th>\n",
       "      <td>285</td>\n",
       "      <td>Pirates of the Caribbean: At World's End</td>\n",
       "      <td>[Captain, Barbossa,, long, believed, to, be, d...</td>\n",
       "    </tr>\n",
       "    <tr>\n",
       "      <th>2</th>\n",
       "      <td>206647</td>\n",
       "      <td>Spectre</td>\n",
       "      <td>[A, cryptic, message, from, Bond’s, past, send...</td>\n",
       "    </tr>\n",
       "    <tr>\n",
       "      <th>3</th>\n",
       "      <td>49026</td>\n",
       "      <td>The Dark Knight Rises</td>\n",
       "      <td>[Following, the, death, of, District, Attorney...</td>\n",
       "    </tr>\n",
       "    <tr>\n",
       "      <th>4</th>\n",
       "      <td>49529</td>\n",
       "      <td>John Carter</td>\n",
       "      <td>[John, Carter, is, a, war-weary,, former, mili...</td>\n",
       "    </tr>\n",
       "  </tbody>\n",
       "</table>\n",
       "</div>"
      ],
      "text/plain": [
       "   movie_id                                     title  \\\n",
       "0     19995                                    Avatar   \n",
       "1       285  Pirates of the Caribbean: At World's End   \n",
       "2    206647                                   Spectre   \n",
       "3     49026                     The Dark Knight Rises   \n",
       "4     49529                               John Carter   \n",
       "\n",
       "                                                tags  \n",
       "0  [In, the, 22nd, century,, a, paraplegic, Marin...  \n",
       "1  [Captain, Barbossa,, long, believed, to, be, d...  \n",
       "2  [A, cryptic, message, from, Bond’s, past, send...  \n",
       "3  [Following, the, death, of, District, Attorney...  \n",
       "4  [John, Carter, is, a, war-weary,, former, mili...  "
      ]
     },
     "execution_count": 34,
     "metadata": {},
     "output_type": "execute_result"
    }
   ],
   "source": [
    "new_df.head()"
   ]
  },
  {
   "cell_type": "code",
   "execution_count": 35,
   "id": "9696980b-0d7b-4177-976f-b63326ad00ce",
   "metadata": {},
   "outputs": [
    {
     "name": "stderr",
     "output_type": "stream",
     "text": [
      "C:\\Users\\aryan\\AppData\\Local\\Temp\\ipykernel_24208\\487797088.py:1: SettingWithCopyWarning: \n",
      "A value is trying to be set on a copy of a slice from a DataFrame.\n",
      "Try using .loc[row_indexer,col_indexer] = value instead\n",
      "\n",
      "See the caveats in the documentation: https://pandas.pydata.org/pandas-docs/stable/user_guide/indexing.html#returning-a-view-versus-a-copy\n",
      "  new_df['tags']=new_df['tags'].apply(lambda x:\" \".join(x))\n"
     ]
    }
   ],
   "source": [
    "new_df['tags']=new_df['tags'].apply(lambda x:\" \".join(x))"
   ]
  },
  {
   "cell_type": "code",
   "execution_count": 36,
   "id": "c21b3ca2-9997-4b78-aee9-72027841d57d",
   "metadata": {},
   "outputs": [
    {
     "data": {
      "text/html": [
       "<div>\n",
       "<style scoped>\n",
       "    .dataframe tbody tr th:only-of-type {\n",
       "        vertical-align: middle;\n",
       "    }\n",
       "\n",
       "    .dataframe tbody tr th {\n",
       "        vertical-align: top;\n",
       "    }\n",
       "\n",
       "    .dataframe thead th {\n",
       "        text-align: right;\n",
       "    }\n",
       "</style>\n",
       "<table border=\"1\" class=\"dataframe\">\n",
       "  <thead>\n",
       "    <tr style=\"text-align: right;\">\n",
       "      <th></th>\n",
       "      <th>movie_id</th>\n",
       "      <th>title</th>\n",
       "      <th>tags</th>\n",
       "    </tr>\n",
       "  </thead>\n",
       "  <tbody>\n",
       "    <tr>\n",
       "      <th>0</th>\n",
       "      <td>19995</td>\n",
       "      <td>Avatar</td>\n",
       "      <td>In the 22nd century, a paraplegic Marine is di...</td>\n",
       "    </tr>\n",
       "    <tr>\n",
       "      <th>1</th>\n",
       "      <td>285</td>\n",
       "      <td>Pirates of the Caribbean: At World's End</td>\n",
       "      <td>Captain Barbossa, long believed to be dead, ha...</td>\n",
       "    </tr>\n",
       "    <tr>\n",
       "      <th>2</th>\n",
       "      <td>206647</td>\n",
       "      <td>Spectre</td>\n",
       "      <td>A cryptic message from Bond’s past sends him o...</td>\n",
       "    </tr>\n",
       "    <tr>\n",
       "      <th>3</th>\n",
       "      <td>49026</td>\n",
       "      <td>The Dark Knight Rises</td>\n",
       "      <td>Following the death of District Attorney Harve...</td>\n",
       "    </tr>\n",
       "    <tr>\n",
       "      <th>4</th>\n",
       "      <td>49529</td>\n",
       "      <td>John Carter</td>\n",
       "      <td>John Carter is a war-weary, former military ca...</td>\n",
       "    </tr>\n",
       "  </tbody>\n",
       "</table>\n",
       "</div>"
      ],
      "text/plain": [
       "   movie_id                                     title  \\\n",
       "0     19995                                    Avatar   \n",
       "1       285  Pirates of the Caribbean: At World's End   \n",
       "2    206647                                   Spectre   \n",
       "3     49026                     The Dark Knight Rises   \n",
       "4     49529                               John Carter   \n",
       "\n",
       "                                                tags  \n",
       "0  In the 22nd century, a paraplegic Marine is di...  \n",
       "1  Captain Barbossa, long believed to be dead, ha...  \n",
       "2  A cryptic message from Bond’s past sends him o...  \n",
       "3  Following the death of District Attorney Harve...  \n",
       "4  John Carter is a war-weary, former military ca...  "
      ]
     },
     "execution_count": 36,
     "metadata": {},
     "output_type": "execute_result"
    }
   ],
   "source": [
    "new_df.head()"
   ]
  },
  {
   "cell_type": "code",
   "execution_count": 37,
   "id": "4e88ebac-f0c6-4205-9f0f-53fd28310bfd",
   "metadata": {},
   "outputs": [
    {
     "name": "stderr",
     "output_type": "stream",
     "text": [
      "C:\\Users\\aryan\\AppData\\Local\\Temp\\ipykernel_24208\\4224080999.py:1: SettingWithCopyWarning: \n",
      "A value is trying to be set on a copy of a slice from a DataFrame.\n",
      "Try using .loc[row_indexer,col_indexer] = value instead\n",
      "\n",
      "See the caveats in the documentation: https://pandas.pydata.org/pandas-docs/stable/user_guide/indexing.html#returning-a-view-versus-a-copy\n",
      "  new_df['tags']=new_df['tags'].apply(lambda x:x.lower())\n"
     ]
    }
   ],
   "source": [
    "new_df['tags']=new_df['tags'].apply(lambda x:x.lower())"
   ]
  },
  {
   "cell_type": "code",
   "execution_count": 38,
   "id": "4c66c559-5553-49a5-a95e-8c269a205205",
   "metadata": {},
   "outputs": [
    {
     "data": {
      "text/html": [
       "<div>\n",
       "<style scoped>\n",
       "    .dataframe tbody tr th:only-of-type {\n",
       "        vertical-align: middle;\n",
       "    }\n",
       "\n",
       "    .dataframe tbody tr th {\n",
       "        vertical-align: top;\n",
       "    }\n",
       "\n",
       "    .dataframe thead th {\n",
       "        text-align: right;\n",
       "    }\n",
       "</style>\n",
       "<table border=\"1\" class=\"dataframe\">\n",
       "  <thead>\n",
       "    <tr style=\"text-align: right;\">\n",
       "      <th></th>\n",
       "      <th>movie_id</th>\n",
       "      <th>title</th>\n",
       "      <th>tags</th>\n",
       "    </tr>\n",
       "  </thead>\n",
       "  <tbody>\n",
       "    <tr>\n",
       "      <th>0</th>\n",
       "      <td>19995</td>\n",
       "      <td>Avatar</td>\n",
       "      <td>in the 22nd century, a paraplegic marine is di...</td>\n",
       "    </tr>\n",
       "    <tr>\n",
       "      <th>1</th>\n",
       "      <td>285</td>\n",
       "      <td>Pirates of the Caribbean: At World's End</td>\n",
       "      <td>captain barbossa, long believed to be dead, ha...</td>\n",
       "    </tr>\n",
       "    <tr>\n",
       "      <th>2</th>\n",
       "      <td>206647</td>\n",
       "      <td>Spectre</td>\n",
       "      <td>a cryptic message from bond’s past sends him o...</td>\n",
       "    </tr>\n",
       "    <tr>\n",
       "      <th>3</th>\n",
       "      <td>49026</td>\n",
       "      <td>The Dark Knight Rises</td>\n",
       "      <td>following the death of district attorney harve...</td>\n",
       "    </tr>\n",
       "    <tr>\n",
       "      <th>4</th>\n",
       "      <td>49529</td>\n",
       "      <td>John Carter</td>\n",
       "      <td>john carter is a war-weary, former military ca...</td>\n",
       "    </tr>\n",
       "    <tr>\n",
       "      <th>...</th>\n",
       "      <td>...</td>\n",
       "      <td>...</td>\n",
       "      <td>...</td>\n",
       "    </tr>\n",
       "    <tr>\n",
       "      <th>4804</th>\n",
       "      <td>9367</td>\n",
       "      <td>El Mariachi</td>\n",
       "      <td>el mariachi just wants to play his guitar and ...</td>\n",
       "    </tr>\n",
       "    <tr>\n",
       "      <th>4805</th>\n",
       "      <td>72766</td>\n",
       "      <td>Newlyweds</td>\n",
       "      <td>a newlywed couple's honeymoon is upended by th...</td>\n",
       "    </tr>\n",
       "    <tr>\n",
       "      <th>4806</th>\n",
       "      <td>231617</td>\n",
       "      <td>Signed, Sealed, Delivered</td>\n",
       "      <td>\"signed, sealed, delivered\" introduces a dedic...</td>\n",
       "    </tr>\n",
       "    <tr>\n",
       "      <th>4807</th>\n",
       "      <td>126186</td>\n",
       "      <td>Shanghai Calling</td>\n",
       "      <td>when ambitious new york attorney sam is sent t...</td>\n",
       "    </tr>\n",
       "    <tr>\n",
       "      <th>4808</th>\n",
       "      <td>25975</td>\n",
       "      <td>My Date with Drew</td>\n",
       "      <td>ever since the second grade when he first saw ...</td>\n",
       "    </tr>\n",
       "  </tbody>\n",
       "</table>\n",
       "<p>4809 rows × 3 columns</p>\n",
       "</div>"
      ],
      "text/plain": [
       "      movie_id                                     title  \\\n",
       "0        19995                                    Avatar   \n",
       "1          285  Pirates of the Caribbean: At World's End   \n",
       "2       206647                                   Spectre   \n",
       "3        49026                     The Dark Knight Rises   \n",
       "4        49529                               John Carter   \n",
       "...        ...                                       ...   \n",
       "4804      9367                               El Mariachi   \n",
       "4805     72766                                 Newlyweds   \n",
       "4806    231617                 Signed, Sealed, Delivered   \n",
       "4807    126186                          Shanghai Calling   \n",
       "4808     25975                         My Date with Drew   \n",
       "\n",
       "                                                   tags  \n",
       "0     in the 22nd century, a paraplegic marine is di...  \n",
       "1     captain barbossa, long believed to be dead, ha...  \n",
       "2     a cryptic message from bond’s past sends him o...  \n",
       "3     following the death of district attorney harve...  \n",
       "4     john carter is a war-weary, former military ca...  \n",
       "...                                                 ...  \n",
       "4804  el mariachi just wants to play his guitar and ...  \n",
       "4805  a newlywed couple's honeymoon is upended by th...  \n",
       "4806  \"signed, sealed, delivered\" introduces a dedic...  \n",
       "4807  when ambitious new york attorney sam is sent t...  \n",
       "4808  ever since the second grade when he first saw ...  \n",
       "\n",
       "[4809 rows x 3 columns]"
      ]
     },
     "execution_count": 38,
     "metadata": {},
     "output_type": "execute_result"
    }
   ],
   "source": [
    "new_df"
   ]
  },
  {
   "cell_type": "code",
   "execution_count": 39,
   "id": "9a084726-bd7b-49f5-9d55-090a0ed02f26",
   "metadata": {},
   "outputs": [],
   "source": [
    "import nltk "
   ]
  },
  {
   "cell_type": "code",
   "execution_count": 40,
   "id": "407bb2ee-8b67-40ea-b028-24ff79b3d0a1",
   "metadata": {},
   "outputs": [],
   "source": [
    "from nltk.stem.porter import PorterStemmer\n",
    "ps=PorterStemmer()"
   ]
  },
  {
   "cell_type": "code",
   "execution_count": 41,
   "id": "2ebceb5a-e205-4345-b4ff-8c4b66bad888",
   "metadata": {},
   "outputs": [],
   "source": [
    "def stemm(text):\n",
    "    y=[]\n",
    "    for i in text.split():\n",
    "        y.append(ps.stem(i))\n",
    "    return \" \".join(y)    "
   ]
  },
  {
   "cell_type": "code",
   "execution_count": 42,
   "id": "aa75c863-4da3-4f72-9dee-88d2b623cc13",
   "metadata": {},
   "outputs": [
    {
     "data": {
      "text/plain": [
       "'love me a lot these day love'"
      ]
     },
     "execution_count": 42,
     "metadata": {},
     "output_type": "execute_result"
    }
   ],
   "source": [
    "stemm('loves me a lot these days love')"
   ]
  },
  {
   "cell_type": "code",
   "execution_count": 43,
   "id": "35c57278-27bf-4d00-b1b8-6aeff88322f9",
   "metadata": {},
   "outputs": [
    {
     "name": "stderr",
     "output_type": "stream",
     "text": [
      "C:\\Users\\aryan\\AppData\\Local\\Temp\\ipykernel_24208\\2918420567.py:1: SettingWithCopyWarning: \n",
      "A value is trying to be set on a copy of a slice from a DataFrame.\n",
      "Try using .loc[row_indexer,col_indexer] = value instead\n",
      "\n",
      "See the caveats in the documentation: https://pandas.pydata.org/pandas-docs/stable/user_guide/indexing.html#returning-a-view-versus-a-copy\n",
      "  new_df['tags']=new_df['tags'].apply(stemm)\n"
     ]
    }
   ],
   "source": [
    "new_df['tags']=new_df['tags'].apply(stemm)"
   ]
  },
  {
   "cell_type": "code",
   "execution_count": 44,
   "id": "86429ca6-b240-431b-8505-a3451ee3b8b0",
   "metadata": {},
   "outputs": [],
   "source": [
    "from sklearn.feature_extraction.text import CountVectorizer \n",
    "cv=CountVectorizer(max_features=5000,stop_words='english')"
   ]
  },
  {
   "cell_type": "code",
   "execution_count": 45,
   "id": "2698c529-57af-47c2-b4df-5f53b59edd9c",
   "metadata": {},
   "outputs": [],
   "source": [
    "vectors=cv.fit_transform(new_df['tags']).toarray() "
   ]
  },
  {
   "cell_type": "code",
   "execution_count": 46,
   "id": "6433f01b-716f-459c-91f3-2b52eb3dcc87",
   "metadata": {},
   "outputs": [
    {
     "data": {
      "text/plain": [
       "array(['000', '007', '10', ..., 'zone', 'zoo', 'zooeydeschanel'],\n",
       "      shape=(5000,), dtype=object)"
      ]
     },
     "execution_count": 46,
     "metadata": {},
     "output_type": "execute_result"
    }
   ],
   "source": [
    "cv.get_feature_names_out()"
   ]
  },
  {
   "cell_type": "code",
   "execution_count": 47,
   "id": "5ce17c11-185b-4a99-a303-6ef76ed55412",
   "metadata": {},
   "outputs": [],
   "source": [
    "from sklearn.metrics.pairwise import cosine_similarity"
   ]
  },
  {
   "cell_type": "code",
   "execution_count": 48,
   "id": "7c9d541b-eaf9-4907-91a4-4447d8e44309",
   "metadata": {},
   "outputs": [],
   "source": [
    "similarity=cosine_similarity(vectors)"
   ]
  },
  {
   "cell_type": "code",
   "execution_count": 49,
   "id": "3d4b27fa-9e19-47d4-908c-62dc4291fbc1",
   "metadata": {},
   "outputs": [
    {
     "data": {
      "text/plain": [
       "[(1214, np.float64(0.28676966733820225)),\n",
       " (2405, np.float64(0.26901379342448517)),\n",
       " (3729, np.float64(0.2605130246476754)),\n",
       " (507, np.float64(0.255608593705383)),\n",
       " (539, np.float64(0.25038669783359574))]"
      ]
     },
     "execution_count": 49,
     "metadata": {},
     "output_type": "execute_result"
    }
   ],
   "source": [
    "sorted(list(enumerate(similarity[0])),reverse=True,key=lambda x:x[1])[1:6]"
   ]
  },
  {
   "cell_type": "code",
   "execution_count": 50,
   "id": "4e324869-baa9-4ee7-907e-703f7071d0b9",
   "metadata": {},
   "outputs": [],
   "source": [
    "def recommend(movie):\n",
    "    movie_index=new_df[new_df['title']==movie].index[0]\n",
    "    distances=similarity[movie_index]\n",
    "    movies_list=sorted(list(enumerate(distances)),reverse=True,key=lambda x:x[1])[1:6]\n",
    "    for i in movies_list:\n",
    "        print(new_df.iloc[i[0]].title)"
   ]
  },
  {
   "cell_type": "code",
   "execution_count": 51,
   "id": "93182895-8c9f-49d9-8225-8aa47ccbc51a",
   "metadata": {},
   "outputs": [
    {
     "name": "stdout",
     "output_type": "stream",
     "text": [
      "Aliens vs Predator: Requiem\n",
      "Aliens\n",
      "Falcon Rising\n",
      "Independence Day\n",
      "Titan A.E.\n"
     ]
    }
   ],
   "source": [
    "recommend('Avatar')"
   ]
  },
  {
   "cell_type": "code",
   "execution_count": null,
   "id": "d15dd7a4-60e4-4979-a5d9-91a98ac02099",
   "metadata": {},
   "outputs": [],
   "source": []
  },
  {
   "cell_type": "code",
   "execution_count": null,
   "id": "c993f79a-1e56-4408-b1aa-92fcfcb15e30",
   "metadata": {},
   "outputs": [],
   "source": []
  }
 ],
 "metadata": {
  "kernelspec": {
   "display_name": "Python 3 (ipykernel)",
   "language": "python",
   "name": "python3"
  },
  "language_info": {
   "codemirror_mode": {
    "name": "ipython",
    "version": 3
   },
   "file_extension": ".py",
   "mimetype": "text/x-python",
   "name": "python",
   "nbconvert_exporter": "python",
   "pygments_lexer": "ipython3",
   "version": "3.13.3"
  }
 },
 "nbformat": 4,
 "nbformat_minor": 5
}
